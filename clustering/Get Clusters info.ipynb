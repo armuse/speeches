{
 "cells": [
  {
   "cell_type": "code",
   "execution_count": 17,
   "metadata": {},
   "outputs": [
    {
     "name": "stderr",
     "output_type": "stream",
     "text": [
      "/Users/alyssa/opt/anaconda3/lib/python3.7/site-packages/sklearn/utils/deprecation.py:143: FutureWarning: The sklearn.metrics.classification module is  deprecated in version 0.22 and will be removed in version 0.24. The corresponding classes / functions should instead be imported from sklearn.metrics. Anything that cannot be imported from sklearn.metrics is now part of the private API.\n",
      "  warnings.warn(message, FutureWarning)\n"
     ]
    }
   ],
   "source": [
    "from nltk.tokenize import word_tokenize\n",
    "from sklearn.feature_extraction.text import TfidfVectorizer\n",
    "from sklearn.feature_extraction.text import CountVectorizer\n",
    "from sklearn.feature_extraction.text import TfidfTransformer\n",
    "from sklearn.cluster import KMeans\n",
    "from sklearn.metrics import adjusted_rand_score\n",
    "import glob\n",
    "import pandas as pd\n",
    "from numpy import random\n",
    "import matplotlib.pyplot as plt\n",
    "from sklearn.manifold import TSNE\n",
    "from yellowbrick.cluster import KElbowVisualizer"
   ]
  },
  {
   "cell_type": "code",
   "execution_count": 2,
   "metadata": {},
   "outputs": [],
   "source": [
    "#grab wrangled data files\n",
    "transcripts = glob.glob('../data/Trump/*.txt')"
   ]
  },
  {
   "cell_type": "code",
   "execution_count": 8,
   "metadata": {},
   "outputs": [],
   "source": [
    "#separate into training/testing by fraction\n",
    "trainFrac = int(len(transcripts)*0.85)\n",
    "\n",
    "training = transcripts[:trainFrac]\n",
    "testing = transcripts[trainFrac:]"
   ]
  },
  {
   "cell_type": "code",
   "execution_count": 9,
   "metadata": {},
   "outputs": [],
   "source": [
    "#get bag of words for each speech in training and\n",
    "#testing datasets\n",
    "training_speeches = []\n",
    "for i in range(len(training)):\n",
    "    speech = open(training[i],'r')\n",
    "    words = []\n",
    "    for line in speech:\n",
    "        words += word_tokenize(line)\n",
    "    seperator = ' '\n",
    "    training_speeches.append(seperator.join(words))\n",
    "\n",
    "testing_speeches = []\n",
    "for i in range(len(testing)):\n",
    "    speech = open(testing[i],'r')\n",
    "    words = []\n",
    "    for line in speech:\n",
    "        words += word_tokenize(line)\n",
    "    sperator = ' '\n",
    "    testing_speeches.append(seperator.join(words))\n",
    "    "
   ]
  },
  {
   "cell_type": "code",
   "execution_count": 48,
   "metadata": {},
   "outputs": [],
   "source": [
    "#format bag of words\n",
    "cv = CountVectorizer(analyzer = 'word', max_features = 50, lowercase=True, preprocessor=None, tokenizer=None, stop_words = 'english')  \n",
    "training_vectors = cv.fit_transform(training_speeches)\n",
    "testing_vectors = cv.fit_transform(testing_speeches)\n",
    "\n",
    "training_classification = []\n",
    "prediction = []\n",
    "\n",
    "\n",
    "#cycle through k-means for 3-10 clusters\n",
    "for k in range(2,12):\n",
    "    kmeans = KMeans(n_clusters = k, init = 'k-means++', random_state = 0)\n",
    "    kmeans_indices = kmeans.fit_predict(training_vectors)\n",
    "    training_classification.append(kmeans_indices)\n",
    "    predicted_indices = kmeans.predict(testing_vectors)\n",
    "    prediction.append(predicted_indices)\n",
    " \n",
    "    k += 1\n",
    "    \n",
    "\n",
    "\n"
   ]
  },
  {
   "cell_type": "code",
   "execution_count": 49,
   "metadata": {},
   "outputs": [
    {
     "data": {
      "image/png": "[encoded data removed]",
      "text/plain": [
       "<Figure size 576x396 with 1 Axes>"
      ]
     },
     "metadata": {},
     "output_type": "display_data"
    },
    {
     "data": {
      "text/plain": [
       "<matplotlib.axes._subplots.AxesSubplot at 0x1a204fe4d0>"
      ]
     },
     "execution_count": 49,
     "metadata": {},
     "output_type": "execute_result"
    }
   ],
   "source": [
    "visualizer = KElbowVisualizer(kmeans,k=(2,13), timings=False)\n",
    "visualizer.fit(training_vectors)\n",
    "visualizer.show()\n",
    "#elbow is at 8"
   ]
  },
  {
   "cell_type": "markdown",
   "metadata": {},
   "source": [
    "Optimal is 8 clusters"
   ]
  },
  {
   "cell_type": "code",
   "execution_count": 41,
   "metadata": {},
   "outputs": [
    {
     "name": "stdout",
     "output_type": "stream",
     "text": [
      "[2 6 0 6 0 8 2 4 6 2 2 0 7 5 6 1 5 0 2 5 6 0 0 0 2 2 6 2 3 7 6 0 2 0 6 2 6\n",
      " 6 6 6 2 5 6 2 6]\n",
      "3\n"
     ]
    }
   ],
   "source": [
    "print(training_classification[7])\n",
    "print(predicted_indices[7])"
   ]
  },
  {
   "cell_type": "code",
   "execution_count": 54,
   "metadata": {},
   "outputs": [
    {
     "name": "stdout",
     "output_type": "stream",
     "text": [
      "Cluster 0: \n",
      " god\n",
      " deal\n",
      " opportunity\n",
      " going\n",
      " things\n",
      " jobs\n",
      " numbers\n",
      " years\n",
      " time\n",
      " think\n",
      "Cluster 1: \n",
      " tony\n",
      " nation\n",
      " years\n",
      " deal\n",
      " god\n",
      " family\n",
      " world\n",
      " think\n",
      " tremendous\n",
      " school\n",
      "Cluster 2: \n",
      " god\n",
      " things\n",
      " deal\n",
      " love\n",
      " going\n",
      " really\n",
      " opportunity\n",
      " time\n",
      " jobs\n",
      " think\n",
      "Cluster 3: \n",
      " god\n",
      " really\n",
      " opportunity\n",
      " going\n",
      " deal\n",
      " good\n",
      " things\n",
      " years\n",
      " come\n",
      " million\n",
      "Cluster 4: \n",
      " god\n",
      " incredible\n",
      " time\n",
      " things\n",
      " numbers\n",
      " need\n",
      " deal\n",
      " think\n",
      " going\n",
      " right\n",
      "Cluster 5: \n",
      " years\n",
      " god\n",
      " things\n",
      " love\n",
      " think\n",
      " going\n",
      " deal\n",
      " jobs\n",
      " numbers\n",
      " school\n",
      "Cluster 6: \n",
      " really\n",
      " god\n",
      " things\n",
      " going\n",
      " numbers\n",
      " world\n",
      " school\n",
      " love\n",
      " opportunity\n",
      " deal\n",
      "Cluster 7: \n",
      " god\n",
      " years\n",
      " new\n",
      " going\n",
      " things\n",
      " opportunity\n",
      " love\n",
      " job\n",
      " came\n",
      " deal\n"
     ]
    }
   ],
   "source": [
    "kmeans = KMeans(n_clusters = 8, init = 'k-means++', random_state = 0)\n",
    "kmeans_indices = kmeans.fit_predict(training_vectors)\n",
    "order_centroids = kmeans.cluster_centers_.argsort()[:, ::-1]\n",
    "terms = cv.get_feature_names()\n",
    "for i in range(8):\n",
    "    print(\"Cluster %d: \" % i)\n",
    "    for ind in order_centroids[i, :10]:\n",
    "        print(' %s' % terms[ind])"
   ]
  },
  {
   "cell_type": "code",
   "execution_count": null,
   "metadata": {},
   "outputs": [],
   "source": []
  }
 ],
 "metadata": {
  "kernelspec": {
   "display_name": "Python 3",
   "language": "python",
   "name": "python3"
  },
  "language_info": {
   "codemirror_mode": {
    "name": "ipython",
    "version": 3
   },
   "file_extension": ".py",
   "mimetype": "text/x-python",
   "name": "python",
   "nbconvert_exporter": "python",
   "pygments_lexer": "ipython3",
   "version": "3.7.6"
  }
 },
 "nbformat": 4,
 "nbformat_minor": 4
}
