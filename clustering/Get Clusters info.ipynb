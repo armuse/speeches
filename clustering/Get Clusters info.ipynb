{
 "cells": [
  {
   "cell_type": "code",
   "execution_count": 74,
   "metadata": {},
   "outputs": [],
   "source": [
    "from nltk.tokenize import word_tokenize\n",
    "from sklearn.feature_extraction.text import TfidfVectorizer\n",
    "from sklearn.feature_extraction.text import CountVectorizer\n",
    "from sklearn.feature_extraction.text import TfidfTransformer\n",
    "from sklearn.cluster import KMeans\n",
    "from sklearn.metrics import adjusted_rand_score\n",
    "import glob\n",
    "import pandas as pd\n",
    "from numpy import random\n",
    "import matplotlib.pyplot as plt\n",
    "from sklearn.manifold import TSNE\n",
    "from sklearn.decomposition import PCA"
   ]
  },
  {
   "cell_type": "code",
   "execution_count": 55,
   "metadata": {},
   "outputs": [],
   "source": [
    "transcripts = glob.glob('../data/Biden/*.txt')"
   ]
  },
  {
   "cell_type": "code",
   "execution_count": 56,
   "metadata": {},
   "outputs": [],
   "source": [
    "trainFrac = int(len(transcripts)*0.9)\n",
    "\n",
    "training = transcripts[:trainFrac]\n",
    "testing = transcripts[trainFrac:]"
   ]
  },
  {
   "cell_type": "code",
   "execution_count": 57,
   "metadata": {},
   "outputs": [],
   "source": [
    "speeches = []\n",
    "for i in range(len(training)):\n",
    "    speech = open(training[i],'r')\n",
    "    words = []\n",
    "    for line in speech:\n",
    "        words += word_tokenize(line)\n",
    "    seperator = ' '\n",
    "    speeches.append(seperator.join(words))"
   ]
  },
  {
   "cell_type": "code",
   "execution_count": 69,
   "metadata": {},
   "outputs": [],
   "source": [
    "cv = CountVectorizer(analyzer = 'word', max_features = 50, lowercase=True, preprocessor=None, tokenizer=None, stop_words = 'english')  \n",
    "vectors = cv.fit_transform(speeches)\n",
    "kmeans = KMeans(n_clusters = 3, init = 'k-means++', random_state = 0)\n",
    "kmean_indices = kmeans.fit_predict(vectors)"
   ]
  },
  {
   "cell_type": "code",
   "execution_count": 70,
   "metadata": {},
   "outputs": [
    {
     "name": "stdout",
     "output_type": "stream",
     "text": [
      "[2 2 2 0 2 2 0 2 2 2 0 1 2 2 2 0 2 0 2]\n"
     ]
    },
    {
     "data": {
      "text/plain": [
       "['../data/Biden/March122020.txt',\n",
       " '../data/Biden/June092020.txt',\n",
       " '../data/Biden/May292020.txt',\n",
       " '../data/Biden/April072020.txt',\n",
       " '../data/Biden/October092019.txt',\n",
       " '../data/Biden/July042020.txt',\n",
       " '../data/Biden/July142020.txt',\n",
       " '../data/Biden/June252020.txt',\n",
       " '../data/Biden/June022020.txt',\n",
       " '../data/Biden/March102020.txt',\n",
       " '../data/Biden/July212020.txt',\n",
       " '../data/Biden/May042020.txt',\n",
       " '../data/Biden/March232020.txt',\n",
       " '../data/Biden/July022020.txt',\n",
       " '../data/Biden/June172020.txt',\n",
       " '../data/Biden/July032020.txt',\n",
       " '../data/Biden/February292020.txt',\n",
       " '../data/Biden/July082020.txt',\n",
       " '../data/Biden/August082019.txt',\n",
       " '../data/Biden/July092020.txt',\n",
       " '../data/Biden/February172020.txt',\n",
       " '../data/Biden/March172020.txt']"
      ]
     },
     "execution_count": 70,
     "metadata": {},
     "output_type": "execute_result"
    }
   ],
   "source": [
    "print(kmean_indices)\n",
    "transcripts"
   ]
  },
  {
   "cell_type": "code",
   "execution_count": 71,
   "metadata": {},
   "outputs": [],
   "source": [
    "pca = PCA(n_components=2)\n",
    "scatter_plot_points = pca.fit_transform(vectors.toarray())"
   ]
  },
  {
   "cell_type": "code",
   "execution_count": 72,
   "metadata": {},
   "outputs": [
    {
     "name": "stdout",
     "output_type": "stream",
     "text": [
      "Cluster 0: \n",
      " going\n",
      " president\n",
      " people\n",
      " know\n",
      " workers\n",
      " make\n",
      " thank\n",
      " need\n",
      " country\n",
      " work\n",
      "Cluster 1: \n",
      " workers\n",
      " president\n",
      " thank\n",
      " people\n",
      " going\n",
      " work\n",
      " like\n",
      " make\n",
      " know\n",
      " need\n",
      "Cluster 2: \n",
      " president\n",
      " trump\n",
      " people\n",
      " need\n",
      " type\n",
      " nation\n",
      " american\n",
      " america\n",
      " url\n",
      " going\n"
     ]
    }
   ],
   "source": [
    "order_centroids = kmeans.cluster_centers_.argsort()[:, ::-1]\n",
    "terms = cv.get_feature_names()\n",
    "for i in range(3):\n",
    "    print(\"Cluster %d: \" % i),\n",
    "    for ind in order_centroids[i, :10]:\n",
    "        print(' %s' % terms[ind]),"
   ]
  },
  {
   "cell_type": "code",
   "execution_count": 63,
   "metadata": {},
   "outputs": [],
   "source": [
    "#colors = [\"r\", \"b\", \"c\" ,\"m\"]\n",
    "\n",
    "#x_axis = [o[0] for o in scatter_plot_points]\n",
    "#y_axis = [o[1] for o in scatter_plot_points]\n",
    "#fig, ax = plt.subplots(figsize=(20,10))\n",
    "#ax.scatter(x_axis, y_axis, c=[colors[d] for d in kmean_indices])\n",
    "\n",
    "#for i, txt in enumerate(speeches):\n",
    "#    ax.annotate(txt, (x_axis[i], y_axis[i]))"
   ]
  },
  {
   "cell_type": "code",
   "execution_count": null,
   "metadata": {},
   "outputs": [],
   "source": []
  }
 ],
 "metadata": {
  "kernelspec": {
   "display_name": "Python 3",
   "language": "python",
   "name": "python3"
  },
  "language_info": {
   "codemirror_mode": {
    "name": "ipython",
    "version": 3
   },
   "file_extension": ".py",
   "mimetype": "text/x-python",
   "name": "python",
   "nbconvert_exporter": "python",
   "pygments_lexer": "ipython3",
   "version": "3.7.6"
  }
 },
 "nbformat": 4,
 "nbformat_minor": 4
}
