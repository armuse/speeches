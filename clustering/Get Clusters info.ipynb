{
 "cells": [
  {
   "cell_type": "code",
   "execution_count": 1,
   "metadata": {},
   "outputs": [
    {
     "name": "stderr",
     "output_type": "stream",
     "text": [
      "/Users/alyssa/opt/anaconda3/lib/python3.7/site-packages/sklearn/utils/deprecation.py:143: FutureWarning: The sklearn.metrics.classification module is  deprecated in version 0.22 and will be removed in version 0.24. The corresponding classes / functions should instead be imported from sklearn.metrics. Anything that cannot be imported from sklearn.metrics is now part of the private API.\n",
      "  warnings.warn(message, FutureWarning)\n"
     ]
    }
   ],
   "source": [
    "from nltk.tokenize import word_tokenize\n",
    "from sklearn.feature_extraction.text import TfidfVectorizer\n",
    "from sklearn.feature_extraction.text import CountVectorizer\n",
    "from sklearn.feature_extraction.text import TfidfTransformer\n",
    "from sklearn.cluster import KMeans\n",
    "from sklearn.metrics import adjusted_rand_score\n",
    "import glob\n",
    "import pandas as pd\n",
    "import numpy as np\n",
    "from numpy import random\n",
    "import matplotlib.pyplot as plt\n",
    "from sklearn.manifold import TSNE\n",
    "from yellowbrick.cluster import KElbowVisualizer\n",
    "import datetime\n",
    "import matplotlib.pyplot as plt\n",
    "from sklearn.linear_model import LinearRegression\n",
    "from sklearn.metrics import r2_score"
   ]
  },
  {
   "cell_type": "code",
   "execution_count": 2,
   "metadata": {},
   "outputs": [],
   "source": [
    "#grab wrangled data files\n",
    "transcripts = glob.glob('../data/Trump/*.txt')"
   ]
  },
  {
   "cell_type": "code",
   "execution_count": 6,
   "metadata": {},
   "outputs": [],
   "source": [
    "#separate into training/testing by fraction\n",
    "trainFrac = int(len(transcripts)*0.80)\n",
    "\n",
    "#random.shuffle(transcripts)\n",
    "\n",
    "training = transcripts[:trainFrac]\n",
    "testing = transcripts[trainFrac:]"
   ]
  },
  {
   "cell_type": "code",
   "execution_count": 7,
   "metadata": {},
   "outputs": [],
   "source": [
    "#get bag of words for each speech in training and\n",
    "#testing datasets\n",
    "training_speeches = []\n",
    "for i in range(len(training)):\n",
    "    speech = open(training[i],'r')\n",
    "    words = []\n",
    "    for line in speech:\n",
    "        words += word_tokenize(line)\n",
    "    seperator = ' '\n",
    "    training_speeches.append(seperator.join(words))\n",
    "\n",
    "testing_speeches = []\n",
    "for i in range(len(testing)):\n",
    "    speech = open(testing[i],'r')\n",
    "    words = []\n",
    "    for line in speech:\n",
    "        words += word_tokenize(line)\n",
    "    sperator = ' '\n",
    "    testing_speeches.append(seperator.join(words))\n",
    "    "
   ]
  },
  {
   "cell_type": "code",
   "execution_count": 8,
   "metadata": {},
   "outputs": [],
   "source": [
    "#format bag of words\n",
    "cv = CountVectorizer(analyzer = 'word', max_features = 50, lowercase=True, preprocessor=None, tokenizer=None, stop_words = 'english')  \n",
    "training_vectors = cv.fit_transform(training_speeches)\n",
    "testing_vectors = cv.fit_transform(testing_speeches)\n",
    "\n",
    "training_classification = []\n",
    "prediction = []\n",
    "\n",
    "#cycle through k-means for 3-10 clusters\n",
    "for k in range(2,12):\n",
    "    kmeans = KMeans(n_clusters = k, init = 'k-means++', random_state = 0)\n",
    "    kmeans_indices = kmeans.fit_predict(training_vectors)\n",
    "    training_classification.append(kmeans_indices)\n",
    "    predicted_indices = kmeans.predict(testing_vectors)\n",
    "    prediction.append(predicted_indices)\n",
    " \n",
    "    k += 1\n",
    "    \n",
    "\n",
    "\n"
   ]
  },
  {
   "cell_type": "code",
   "execution_count": 9,
   "metadata": {},
   "outputs": [
    {
     "data": {
      "image/png": "[encoded data removed]",
      "text/plain": [
       "<Figure size 576x396 with 1 Axes>"
      ]
     },
     "metadata": {},
     "output_type": "display_data"
    },
    {
     "data": {
      "text/plain": [
       "<matplotlib.axes._subplots.AxesSubplot at 0x1a220b9850>"
      ]
     },
     "execution_count": 9,
     "metadata": {},
     "output_type": "execute_result"
    }
   ],
   "source": [
    "visualizer = KElbowVisualizer(kmeans,k=(2,13), timings=False)\n",
    "visualizer.fit(training_vectors)\n",
    "visualizer.show()"
   ]
  },
  {
   "cell_type": "code",
   "execution_count": 33,
   "metadata": {},
   "outputs": [],
   "source": [
    "elbow = 5\n",
    "\n",
    "#print(training_classification)\n",
    "#print(predicted_indices)\n",
    "#print(training_classification[elbow-2])\n",
    "#print(prediction[elbow-2])"
   ]
  },
  {
   "cell_type": "code",
   "execution_count": 11,
   "metadata": {},
   "outputs": [
    {
     "name": "stdout",
     "output_type": "stream",
     "text": [
      "Cluster 0: \n",
      " tremendous\n",
      " new\n",
      " years\n",
      " everybody\n",
      " world\n",
      " good\n",
      " going\n",
      " time\n",
      " states\n",
      " type\n",
      "Cluster 1: \n",
      " good\n",
      " got\n",
      " right\n",
      " years\n",
      " think\n",
      " everybody\n",
      " help\n",
      " opportunity\n",
      " school\n",
      " make\n",
      "Cluster 2: \n",
      " good\n",
      " think\n",
      " everybody\n",
      " got\n",
      " school\n",
      " right\n",
      " really\n",
      " let\n",
      " world\n",
      " make\n",
      "Cluster 3: \n",
      " good\n",
      " think\n",
      " today\n",
      " everybody\n",
      " got\n",
      " time\n",
      " school\n",
      " make\n",
      " right\n",
      " really\n",
      "Cluster 4: \n",
      " good\n",
      " years\n",
      " think\n",
      " everybody\n",
      " got\n",
      " make\n",
      " time\n",
      " let\n",
      " right\n",
      " really\n"
     ]
    }
   ],
   "source": [
    "kmeans = KMeans(n_clusters = elbow, init = 'k-means++', random_state = 0)\n",
    "kmeans_indices = kmeans.fit_predict(training_vectors)\n",
    "order_centroids = kmeans.cluster_centers_.argsort()[:, ::-1]\n",
    "terms = cv.get_feature_names()\n",
    "for i in range(elbow):\n",
    "    print(\"Cluster %d: \" % i)\n",
    "    for ind in order_centroids[i, :10]:\n",
    "        print(' %s' % terms[ind])"
   ]
  },
  {
   "cell_type": "markdown",
   "metadata": {},
   "source": [
    "# DOW JONES"
   ]
  },
  {
   "cell_type": "code",
   "execution_count": 39,
   "metadata": {},
   "outputs": [
    {
     "data": {
      "text/html": [
       "<div>\n",
       "<style scoped>\n",
       "    .dataframe tbody tr th:only-of-type {\n",
       "        vertical-align: middle;\n",
       "    }\n",
       "\n",
       "    .dataframe tbody tr th {\n",
       "        vertical-align: top;\n",
       "    }\n",
       "\n",
       "    .dataframe thead th {\n",
       "        text-align: right;\n",
       "    }\n",
       "</style>\n",
       "<table border=\"1\" class=\"dataframe\">\n",
       "  <thead>\n",
       "    <tr style=\"text-align: right;\">\n",
       "      <th></th>\n",
       "      <th>Date</th>\n",
       "      <th>Open</th>\n",
       "      <th>High</th>\n",
       "      <th>Low</th>\n",
       "      <th>Close</th>\n",
       "      <th>Adj Close</th>\n",
       "      <th>Volume</th>\n",
       "    </tr>\n",
       "  </thead>\n",
       "  <tbody>\n",
       "    <tr>\n",
       "      <th>0</th>\n",
       "      <td>2015-08-11</td>\n",
       "      <td>17593.589844</td>\n",
       "      <td>17593.589844</td>\n",
       "      <td>17352.630859</td>\n",
       "      <td>17402.839844</td>\n",
       "      <td>17402.839844</td>\n",
       "      <td>103010000</td>\n",
       "    </tr>\n",
       "    <tr>\n",
       "      <th>1</th>\n",
       "      <td>2015-08-12</td>\n",
       "      <td>17382.929688</td>\n",
       "      <td>17423.900391</td>\n",
       "      <td>17125.810547</td>\n",
       "      <td>17402.509766</td>\n",
       "      <td>17402.509766</td>\n",
       "      <td>120400000</td>\n",
       "    </tr>\n",
       "    <tr>\n",
       "      <th>2</th>\n",
       "      <td>2015-08-13</td>\n",
       "      <td>17401.640625</td>\n",
       "      <td>17481.779297</td>\n",
       "      <td>17341.339844</td>\n",
       "      <td>17408.250000</td>\n",
       "      <td>17408.250000</td>\n",
       "      <td>88550000</td>\n",
       "    </tr>\n",
       "    <tr>\n",
       "      <th>3</th>\n",
       "      <td>2015-08-14</td>\n",
       "      <td>17410.119141</td>\n",
       "      <td>17492.900391</td>\n",
       "      <td>17394.060547</td>\n",
       "      <td>17477.400391</td>\n",
       "      <td>17477.400391</td>\n",
       "      <td>82120000</td>\n",
       "    </tr>\n",
       "    <tr>\n",
       "      <th>4</th>\n",
       "      <td>2015-08-17</td>\n",
       "      <td>17472.660156</td>\n",
       "      <td>17551.400391</td>\n",
       "      <td>17341.720703</td>\n",
       "      <td>17545.179688</td>\n",
       "      <td>17545.179688</td>\n",
       "      <td>73380000</td>\n",
       "    </tr>\n",
       "  </tbody>\n",
       "</table>\n",
       "</div>"
      ],
      "text/plain": [
       "         Date          Open          High           Low         Close  \\\n",
       "0  2015-08-11  17593.589844  17593.589844  17352.630859  17402.839844   \n",
       "1  2015-08-12  17382.929688  17423.900391  17125.810547  17402.509766   \n",
       "2  2015-08-13  17401.640625  17481.779297  17341.339844  17408.250000   \n",
       "3  2015-08-14  17410.119141  17492.900391  17394.060547  17477.400391   \n",
       "4  2015-08-17  17472.660156  17551.400391  17341.720703  17545.179688   \n",
       "\n",
       "      Adj Close     Volume  \n",
       "0  17402.839844  103010000  \n",
       "1  17402.509766  120400000  \n",
       "2  17408.250000   88550000  \n",
       "3  17477.400391   82120000  \n",
       "4  17545.179688   73380000  "
      ]
     },
     "execution_count": 39,
     "metadata": {},
     "output_type": "execute_result"
    }
   ],
   "source": [
    "dowjones = pd.read_csv('../dowjones/DJI.csv')\n",
    "dowjones.head()"
   ]
  },
  {
   "cell_type": "code",
   "execution_count": 40,
   "metadata": {},
   "outputs": [],
   "source": [
    "dowjones.drop(columns=['Open','High','Low','Adj Close'],inplace=True)\n",
    "dowjones['Date'] = pd.to_datetime(dowjones['Date'])"
   ]
  },
  {
   "cell_type": "code",
   "execution_count": 56,
   "metadata": {},
   "outputs": [
    {
     "name": "stdout",
     "output_type": "stream",
     "text": [
      "[2 0 0 0 0 4 2 1 0 2 2 0 4 3 0 1 3 0 2 4 0 0 0 2 2 0 2 4 3 0 0 2 0 0 4 0 0\n",
      " 0 0 2 3 0]\n"
     ]
    }
   ],
   "source": [
    "classified_clusters = kmeans_indices #+ prediction[elbow-2]\n",
    "#predicted_clusters = kmeans.predict(testing_vectors)\n",
    "speech_dates = training\n",
    "#speech_dates = transcripts\n",
    "dates = []\n",
    "for i in range(len(speech_dates)):\n",
    "    date_time_str = speech_dates[i][14:-4] #add spaces\n",
    "    date_time_obj = datetime.datetime.strptime(date_time_str, '%B%d%Y')\n",
    "    dates.append(date_time_obj)"
   ]
  },
  {
   "cell_type": "code",
   "execution_count": 63,
   "metadata": {},
   "outputs": [],
   "source": [
    "speeches = {'speech_date':dates, 'Cluster':classified_clusters, 'Close':np.zeros(len(dates))}\n",
    "speeches_df = pd.DataFrame(data=speeches)"
   ]
  },
  {
   "cell_type": "code",
   "execution_count": 62,
   "metadata": {},
   "outputs": [],
   "source": [
    "close = []\n",
    "#match the dowjones 'close' to the date of speeches \n",
    "for i in range(len(speeches_df)):\n",
    "    for j in range(len(dowjones)):\n",
    "        if (dowjones['Date'].iloc[j] == speeches_df['speech_date'].iloc[i]):\n",
    "            close.append([speeches_df['speech_date'].iloc[i],dowjones['Close'].iloc[j],speeches_df['Cluster'].iloc[i]])"
   ]
  },
  {
   "cell_type": "code",
   "execution_count": 65,
   "metadata": {},
   "outputs": [
    {
     "data": {
      "text/html": [
       "<div>\n",
       "<style scoped>\n",
       "    .dataframe tbody tr th:only-of-type {\n",
       "        vertical-align: middle;\n",
       "    }\n",
       "\n",
       "    .dataframe tbody tr th {\n",
       "        vertical-align: top;\n",
       "    }\n",
       "\n",
       "    .dataframe thead th {\n",
       "        text-align: right;\n",
       "    }\n",
       "</style>\n",
       "<table border=\"1\" class=\"dataframe\">\n",
       "  <thead>\n",
       "    <tr style=\"text-align: right;\">\n",
       "      <th></th>\n",
       "      <th>Date</th>\n",
       "      <th>Close</th>\n",
       "      <th>Cluster</th>\n",
       "    </tr>\n",
       "  </thead>\n",
       "  <tbody>\n",
       "    <tr>\n",
       "      <th>0</th>\n",
       "      <td>2020-01-08</td>\n",
       "      <td>28745.089844</td>\n",
       "      <td>0</td>\n",
       "    </tr>\n",
       "    <tr>\n",
       "      <th>1</th>\n",
       "      <td>2020-04-16</td>\n",
       "      <td>23537.679688</td>\n",
       "      <td>0</td>\n",
       "    </tr>\n",
       "    <tr>\n",
       "      <th>2</th>\n",
       "      <td>2019-08-05</td>\n",
       "      <td>25717.740234</td>\n",
       "      <td>0</td>\n",
       "    </tr>\n",
       "    <tr>\n",
       "      <th>3</th>\n",
       "      <td>2020-07-15</td>\n",
       "      <td>26870.099609</td>\n",
       "      <td>4</td>\n",
       "    </tr>\n",
       "    <tr>\n",
       "      <th>4</th>\n",
       "      <td>2020-06-26</td>\n",
       "      <td>25015.550781</td>\n",
       "      <td>2</td>\n",
       "    </tr>\n",
       "  </tbody>\n",
       "</table>\n",
       "</div>"
      ],
      "text/plain": [
       "        Date         Close  Cluster\n",
       "0 2020-01-08  28745.089844        0\n",
       "1 2020-04-16  23537.679688        0\n",
       "2 2019-08-05  25717.740234        0\n",
       "3 2020-07-15  26870.099609        4\n",
       "4 2020-06-26  25015.550781        2"
      ]
     },
     "execution_count": 65,
     "metadata": {},
     "output_type": "execute_result"
    }
   ],
   "source": [
    "new_df = pd.DataFrame(data=close,columns=['Date','Close','Cluster'])\n",
    "new_df.head()"
   ]
  },
  {
   "cell_type": "code",
   "execution_count": 66,
   "metadata": {},
   "outputs": [
    {
     "data": {
      "text/plain": [
       "0.020731161590806235"
      ]
     },
     "execution_count": 66,
     "metadata": {},
     "output_type": "execute_result"
    }
   ],
   "source": [
    "regressor = LinearRegression()\n",
    "X = new_df['Cluster'].values.reshape(-1,1)\n",
    "y = new_df['Close'].values\n",
    "regressor.fit(X,y)\n",
    "pred_y = regressor.predict(X)\n",
    "r2_score(y,pred_y)"
   ]
  },
  {
   "cell_type": "code",
   "execution_count": null,
   "metadata": {},
   "outputs": [],
   "source": []
  }
 ],
 "metadata": {
  "kernelspec": {
   "display_name": "Python 3",
   "language": "python",
   "name": "python3"
  },
  "language_info": {
   "codemirror_mode": {
    "name": "ipython",
    "version": 3
   },
   "file_extension": ".py",
   "mimetype": "text/x-python",
   "name": "python",
   "nbconvert_exporter": "python",
   "pygments_lexer": "ipython3",
   "version": "3.7.6"
  }
 },
 "nbformat": 4,
 "nbformat_minor": 4
}
