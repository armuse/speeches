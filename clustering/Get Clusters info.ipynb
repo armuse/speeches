{
 "cells": [
  {
   "cell_type": "code",
   "execution_count": 1,
   "metadata": {},
   "outputs": [
    {
     "name": "stderr",
     "output_type": "stream",
     "text": [
      "/Users/alyssa/opt/anaconda3/lib/python3.7/site-packages/sklearn/utils/deprecation.py:143: FutureWarning: The sklearn.metrics.classification module is  deprecated in version 0.22 and will be removed in version 0.24. The corresponding classes / functions should instead be imported from sklearn.metrics. Anything that cannot be imported from sklearn.metrics is now part of the private API.\n",
      "  warnings.warn(message, FutureWarning)\n"
     ]
    }
   ],
   "source": [
    "from nltk.tokenize import word_tokenize\n",
    "from sklearn.feature_extraction.text import TfidfVectorizer\n",
    "from sklearn.feature_extraction.text import CountVectorizer\n",
    "from sklearn.feature_extraction.text import TfidfTransformer\n",
    "from sklearn.cluster import KMeans\n",
    "from sklearn.metrics import adjusted_rand_score\n",
    "import glob\n",
    "import pandas as pd\n",
    "import numpy as np\n",
    "from numpy import random\n",
    "import matplotlib.pyplot as plt\n",
    "from sklearn.manifold import TSNE\n",
    "from yellowbrick.cluster import KElbowVisualizer\n",
    "import datetime\n",
    "import matplotlib.pyplot as plt"
   ]
  },
  {
   "cell_type": "code",
   "execution_count": 2,
   "metadata": {},
   "outputs": [
    {
     "name": "stdout",
     "output_type": "stream",
     "text": [
      "['../data/Trump/October272019.txt', '../data/Trump/May302020.txt', '../data/Trump/January082020.txt', '../data/Trump/April162020.txt', '../data/Trump/August052019.txt', '../data/Trump/July152020.txt', '../data/Trump/June262020.txt', '../data/Trump/July232019.txt', '../data/Trump/May072020.txt', '../data/Trump/May212020.txt', '../data/Trump/August052020.txt', '../data/Trump/July052019.txt', '../data/Trump/March032020.txt', '../data/Trump/March132020.txt', '../data/Trump/July042020.txt', '../data/Trump/August142019.txt', '../data/Trump/April282020.txt', '../data/Trump/July312019.txt', '../data/Trump/May152020.txt', '../data/Trump/May052020.txt', '../data/Trump/June132020.txt', '../data/Trump/March112020.txt', '../data/Trump/January242020.txt', '../data/Trump/July162020.txt', '../data/Trump/July282020.txt', '../data/Trump/May222020.txt', '../data/Trump/April192016.txt', '../data/Trump/February102020.txt', '../data/Trump/July072020.txt', '../data/Trump/August062020.txt', '../data/Trump/August212019.txt', '../data/Trump/January032020.txt', '../data/Trump/May142020.txt', '../data/Trump/October032019.txt', '../data/Trump/April222020.txt', '../data/Trump/July242020.txt', '../data/Trump/July022020.txt', '../data/Trump/June172020.txt', '../data/Trump/July032020.txt', '../data/Trump/February042020.txt', '../data/Trump/May192020.txt', '../data/Trump/May262020.txt', '../data/Trump/January282020.txt', '../data/Trump/July282017.txt', '../data/Trump/February162020.txt', '../data/Trump/February062020.txt', '../data/Trump/February202020.txt', '../data/Trump/July092020.txt', '../data/Trump/June232020.txt', '../data/Trump/February072020.txt', '../data/Trump/February172020.txt', '../data/Trump/March282020.txt', '../data/Trump/May252020.txt']\n"
     ]
    }
   ],
   "source": [
    "#grab wrangled data files\n",
    "transcripts = glob.glob('../data/Trump/*.txt')\n"
   ]
  },
  {
   "cell_type": "code",
   "execution_count": 3,
   "metadata": {},
   "outputs": [],
   "source": [
    "#separate into training/testing by fraction\n",
    "trainFrac = int(len(transcripts)*0.80)\n",
    "\n",
    "random.shuffle(transcripts)\n",
    "\n",
    "training = transcripts[:trainFrac]\n",
    "testing = transcripts[trainFrac:]"
   ]
  },
  {
   "cell_type": "code",
   "execution_count": 4,
   "metadata": {},
   "outputs": [],
   "source": [
    "#get bag of words for each speech in training and\n",
    "#testing datasets\n",
    "training_speeches = []\n",
    "for i in range(len(training)):\n",
    "    speech = open(training[i],'r')\n",
    "    words = []\n",
    "    for line in speech:\n",
    "        words += word_tokenize(line)\n",
    "    seperator = ' '\n",
    "    training_speeches.append(seperator.join(words))\n",
    "\n",
    "testing_speeches = []\n",
    "for i in range(len(testing)):\n",
    "    speech = open(testing[i],'r')\n",
    "    words = []\n",
    "    for line in speech:\n",
    "        words += word_tokenize(line)\n",
    "    sperator = ' '\n",
    "    testing_speeches.append(seperator.join(words))\n",
    "    "
   ]
  },
  {
   "cell_type": "code",
   "execution_count": 5,
   "metadata": {},
   "outputs": [],
   "source": [
    "#format bag of words\n",
    "cv = CountVectorizer(analyzer = 'word', max_features = 50, lowercase=True, preprocessor=None, tokenizer=None, stop_words = 'english')  \n",
    "training_vectors = cv.fit_transform(training_speeches)\n",
    "testing_vectors = cv.fit_transform(testing_speeches)\n",
    "\n",
    "training_classification = []\n",
    "prediction = []\n",
    "\n",
    "#cycle through k-means for 3-10 clusters\n",
    "for k in range(2,12):\n",
    "    kmeans = KMeans(n_clusters = k, init = 'k-means++', random_state = 0)\n",
    "    kmeans_indices = kmeans.fit_predict(training_vectors)\n",
    "    training_classification.append(kmeans_indices)\n",
    "    predicted_indices = kmeans.predict(testing_vectors)\n",
    "    prediction.append(predicted_indices)\n",
    " \n",
    "    k += 1"
   ]
  },
  {
   "cell_type": "code",
   "execution_count": 6,
   "metadata": {},
   "outputs": [
    {
     "data": {
      "image/png": "[encoded data removed]",
      "text/plain": [
       "<Figure size 576x396 with 1 Axes>"
      ]
     },
     "metadata": {},
     "output_type": "display_data"
    },
    {
     "data": {
      "text/plain": [
       "<matplotlib.axes._subplots.AxesSubplot at 0x1a20a59f50>"
      ]
     },
     "execution_count": 6,
     "metadata": {},
     "output_type": "execute_result"
    }
   ],
   "source": [
    "visualizer = KElbowVisualizer(kmeans,k=(2,13), timings=False)\n",
    "visualizer.fit(training_vectors)\n",
    "visualizer.show()"
   ]
  },
  {
   "cell_type": "code",
   "execution_count": 7,
   "metadata": {},
   "outputs": [],
   "source": [
    "elbow = 5\n"
   ]
  },
  {
   "cell_type": "code",
   "execution_count": 8,
   "metadata": {},
   "outputs": [
    {
     "name": "stdout",
     "output_type": "stream",
     "text": [
      "Cluster 0: \n",
      " god\n",
      " today\n",
      " families\n",
      " years\n",
      " world\n",
      " think\n",
      " nation\n",
      " things\n",
      " new\n",
      " type\n",
      "Cluster 1: \n",
      " god\n",
      " families\n",
      " years\n",
      " thing\n",
      " job\n",
      " lot\n",
      " pence\n",
      " things\n",
      " schools\n",
      " new\n",
      "Cluster 2: \n",
      " god\n",
      " pence\n",
      " years\n",
      " thing\n",
      " lot\n",
      " families\n",
      " things\n",
      " going\n",
      " job\n",
      " new\n",
      "Cluster 3: \n",
      " god\n",
      " united\n",
      " place\n",
      " pence\n",
      " families\n",
      " going\n",
      " thing\n",
      " years\n",
      " country\n",
      " things\n",
      "Cluster 4: \n",
      " god\n",
      " thing\n",
      " place\n",
      " lot\n",
      " pence\n",
      " families\n",
      " things\n",
      " think\n",
      " students\n",
      " children\n"
     ]
    }
   ],
   "source": [
    "kmeans = KMeans(n_clusters = elbow, init = 'k-means++', random_state = 0)\n",
    "kmeans_indices = kmeans.fit_predict(training_vectors)\n",
    "order_centroids = kmeans.cluster_centers_.argsort()[:, ::-1]\n",
    "terms = cv.get_feature_names()\n",
    "for i in range(elbow):\n",
    "    print(\"Cluster %d: \" % i)\n",
    "    for ind in order_centroids[i, :10]:\n",
    "        print(' %s' % terms[ind])"
   ]
  },
  {
   "cell_type": "markdown",
   "metadata": {},
   "source": [
    "# DOW JONES"
   ]
  },
  {
   "cell_type": "code",
   "execution_count": 9,
   "metadata": {},
   "outputs": [
    {
     "data": {
      "text/html": [
       "<div>\n",
       "<style scoped>\n",
       "    .dataframe tbody tr th:only-of-type {\n",
       "        vertical-align: middle;\n",
       "    }\n",
       "\n",
       "    .dataframe tbody tr th {\n",
       "        vertical-align: top;\n",
       "    }\n",
       "\n",
       "    .dataframe thead th {\n",
       "        text-align: right;\n",
       "    }\n",
       "</style>\n",
       "<table border=\"1\" class=\"dataframe\">\n",
       "  <thead>\n",
       "    <tr style=\"text-align: right;\">\n",
       "      <th></th>\n",
       "      <th>Date</th>\n",
       "      <th>Open</th>\n",
       "      <th>High</th>\n",
       "      <th>Low</th>\n",
       "      <th>Close</th>\n",
       "      <th>Adj Close</th>\n",
       "      <th>Volume</th>\n",
       "    </tr>\n",
       "  </thead>\n",
       "  <tbody>\n",
       "    <tr>\n",
       "      <th>0</th>\n",
       "      <td>2015-08-11</td>\n",
       "      <td>17593.589844</td>\n",
       "      <td>17593.589844</td>\n",
       "      <td>17352.630859</td>\n",
       "      <td>17402.839844</td>\n",
       "      <td>17402.839844</td>\n",
       "      <td>103010000</td>\n",
       "    </tr>\n",
       "    <tr>\n",
       "      <th>1</th>\n",
       "      <td>2015-08-12</td>\n",
       "      <td>17382.929688</td>\n",
       "      <td>17423.900391</td>\n",
       "      <td>17125.810547</td>\n",
       "      <td>17402.509766</td>\n",
       "      <td>17402.509766</td>\n",
       "      <td>120400000</td>\n",
       "    </tr>\n",
       "    <tr>\n",
       "      <th>2</th>\n",
       "      <td>2015-08-13</td>\n",
       "      <td>17401.640625</td>\n",
       "      <td>17481.779297</td>\n",
       "      <td>17341.339844</td>\n",
       "      <td>17408.250000</td>\n",
       "      <td>17408.250000</td>\n",
       "      <td>88550000</td>\n",
       "    </tr>\n",
       "    <tr>\n",
       "      <th>3</th>\n",
       "      <td>2015-08-14</td>\n",
       "      <td>17410.119141</td>\n",
       "      <td>17492.900391</td>\n",
       "      <td>17394.060547</td>\n",
       "      <td>17477.400391</td>\n",
       "      <td>17477.400391</td>\n",
       "      <td>82120000</td>\n",
       "    </tr>\n",
       "    <tr>\n",
       "      <th>4</th>\n",
       "      <td>2015-08-17</td>\n",
       "      <td>17472.660156</td>\n",
       "      <td>17551.400391</td>\n",
       "      <td>17341.720703</td>\n",
       "      <td>17545.179688</td>\n",
       "      <td>17545.179688</td>\n",
       "      <td>73380000</td>\n",
       "    </tr>\n",
       "  </tbody>\n",
       "</table>\n",
       "</div>"
      ],
      "text/plain": [
       "         Date          Open          High           Low         Close  \\\n",
       "0  2015-08-11  17593.589844  17593.589844  17352.630859  17402.839844   \n",
       "1  2015-08-12  17382.929688  17423.900391  17125.810547  17402.509766   \n",
       "2  2015-08-13  17401.640625  17481.779297  17341.339844  17408.250000   \n",
       "3  2015-08-14  17410.119141  17492.900391  17394.060547  17477.400391   \n",
       "4  2015-08-17  17472.660156  17551.400391  17341.720703  17545.179688   \n",
       "\n",
       "      Adj Close     Volume  \n",
       "0  17402.839844  103010000  \n",
       "1  17402.509766  120400000  \n",
       "2  17408.250000   88550000  \n",
       "3  17477.400391   82120000  \n",
       "4  17545.179688   73380000  "
      ]
     },
     "execution_count": 9,
     "metadata": {},
     "output_type": "execute_result"
    }
   ],
   "source": [
    "dowjones = pd.read_csv('../dowjones/DJI.csv')\n",
    "dowjones.head()"
   ]
  },
  {
   "cell_type": "code",
   "execution_count": 10,
   "metadata": {},
   "outputs": [],
   "source": [
    "dowjones.drop(columns=['Open','High','Low','Adj Close'],inplace=True)\n",
    "dowjones['Date'] = pd.to_datetime(dowjones['Date'])"
   ]
  },
  {
   "cell_type": "code",
   "execution_count": 13,
   "metadata": {},
   "outputs": [],
   "source": [
    "classified_clusters = kmeans_indices \n",
    "#predicted_clusters = kmeans.predict(testing_vectors)\n",
    "speech_dates = training\n",
    "#speech_dates = transcripts\n",
    "dates = []\n",
    "for i in range(len(speech_dates)):\n",
    "    date_time_str = speech_dates[i][14:-4] #add spaces\n",
    "    date_time_obj = datetime.datetime.strptime(date_time_str, '%B%d%Y')\n",
    "    dates.append(date_time_obj)"
   ]
  },
  {
   "cell_type": "code",
   "execution_count": 14,
   "metadata": {},
   "outputs": [],
   "source": [
    "speeches = {'speech_date':dates, 'Cluster':classified_clusters, 'Close':np.zeros(len(dates))}\n",
    "speeches_df = pd.DataFrame(data=speeches)"
   ]
  },
  {
   "cell_type": "code",
   "execution_count": 15,
   "metadata": {},
   "outputs": [],
   "source": [
    "close = []\n",
    "#match the dowjones 'close' to the date of speeches \n",
    "for i in range(len(speeches_df)):\n",
    "    for j in range(len(dowjones)):\n",
    "        if (dowjones['Date'].iloc[j] == speeches_df['speech_date'].iloc[i]):\n",
    "            close.append([speeches_df['speech_date'].iloc[i],dowjones['Close'].iloc[j],\n",
    "                          speeches_df['Cluster'].iloc[i]])"
   ]
  },
  {
   "cell_type": "code",
   "execution_count": 16,
   "metadata": {},
   "outputs": [
    {
     "data": {
      "text/html": [
       "<div>\n",
       "<style scoped>\n",
       "    .dataframe tbody tr th:only-of-type {\n",
       "        vertical-align: middle;\n",
       "    }\n",
       "\n",
       "    .dataframe tbody tr th {\n",
       "        vertical-align: top;\n",
       "    }\n",
       "\n",
       "    .dataframe thead th {\n",
       "        text-align: right;\n",
       "    }\n",
       "</style>\n",
       "<table border=\"1\" class=\"dataframe\">\n",
       "  <thead>\n",
       "    <tr style=\"text-align: right;\">\n",
       "      <th></th>\n",
       "      <th>Date</th>\n",
       "      <th>Close</th>\n",
       "      <th>Cluster</th>\n",
       "    </tr>\n",
       "  </thead>\n",
       "  <tbody>\n",
       "    <tr>\n",
       "      <th>0</th>\n",
       "      <td>2020-06-23</td>\n",
       "      <td>26156.099609</td>\n",
       "      <td>2</td>\n",
       "    </tr>\n",
       "    <tr>\n",
       "      <th>1</th>\n",
       "      <td>2020-04-28</td>\n",
       "      <td>24101.550781</td>\n",
       "      <td>4</td>\n",
       "    </tr>\n",
       "    <tr>\n",
       "      <th>2</th>\n",
       "      <td>2019-08-05</td>\n",
       "      <td>25717.740234</td>\n",
       "      <td>0</td>\n",
       "    </tr>\n",
       "    <tr>\n",
       "      <th>3</th>\n",
       "      <td>2020-01-08</td>\n",
       "      <td>28745.089844</td>\n",
       "      <td>0</td>\n",
       "    </tr>\n",
       "    <tr>\n",
       "      <th>4</th>\n",
       "      <td>2020-07-16</td>\n",
       "      <td>26734.710938</td>\n",
       "      <td>1</td>\n",
       "    </tr>\n",
       "  </tbody>\n",
       "</table>\n",
       "</div>"
      ],
      "text/plain": [
       "        Date         Close  Cluster\n",
       "0 2020-06-23  26156.099609        2\n",
       "1 2020-04-28  24101.550781        4\n",
       "2 2019-08-05  25717.740234        0\n",
       "3 2020-01-08  28745.089844        0\n",
       "4 2020-07-16  26734.710938        1"
      ]
     },
     "execution_count": 16,
     "metadata": {},
     "output_type": "execute_result"
    }
   ],
   "source": [
    "new_df = pd.DataFrame(data=close,columns=['Date','Close','Cluster'])\n",
    "new_df.head()"
   ]
  },
  {
   "cell_type": "code",
   "execution_count": 17,
   "metadata": {},
   "outputs": [],
   "source": [
    "X = new_df['Cluster'].values.reshape(-1,1)\n",
    "y = new_df['Close'].values\n"
   ]
  },
  {
   "cell_type": "code",
   "execution_count": 18,
   "metadata": {},
   "outputs": [
    {
     "data": {
      "text/plain": [
       "<matplotlib.collections.PathCollection at 0x1a20d52c50>"
      ]
     },
     "execution_count": 18,
     "metadata": {},
     "output_type": "execute_result"
    },
    {
     "data": {
      "image/png": "[encoded data removed]",
      "text/plain": [
       "<Figure size 576x396 with 1 Axes>"
      ]
     },
     "metadata": {},
     "output_type": "display_data"
    }
   ],
   "source": [
    "plt.scatter(new_df['Cluster'],new_df['Close'])\n",
    "#new_df.boxplot(column='Close',by='Cluster')"
   ]
  },
  {
   "cell_type": "code",
   "execution_count": null,
   "metadata": {},
   "outputs": [],
   "source": [
    "#Q1 = new_df[new_df['Cluster']==0].quantile(0.25)\n",
    "#new_df = new_df[new_df['Close'] > Q1['Close']]"
   ]
  },
  {
   "cell_type": "code",
   "execution_count": 19,
   "metadata": {},
   "outputs": [
    {
     "data": {
      "text/plain": [
       "<matplotlib.axes._subplots.AxesSubplot at 0x1a20d20a90>"
      ]
     },
     "execution_count": 19,
     "metadata": {},
     "output_type": "execute_result"
    },
    {
     "data": {
      "image/png": "[encoded data removed]",
      "text/plain": [
       "<Figure size 576x396 with 1 Axes>"
      ]
     },
     "metadata": {},
     "output_type": "display_data"
    }
   ],
   "source": [
    "new_df.boxplot(column='Close',by='Cluster')"
   ]
  },
  {
   "cell_type": "code",
   "execution_count": null,
   "metadata": {},
   "outputs": [],
   "source": []
  }
 ],
 "metadata": {
  "kernelspec": {
   "display_name": "Python 3",
   "language": "python",
   "name": "python3"
  },
  "language_info": {
   "codemirror_mode": {
    "name": "ipython",
    "version": 3
   },
   "file_extension": ".py",
   "mimetype": "text/x-python",
   "name": "python",
   "nbconvert_exporter": "python",
   "pygments_lexer": "ipython3",
   "version": "3.7.6"
  }
 },
 "nbformat": 4,
 "nbformat_minor": 4
}
