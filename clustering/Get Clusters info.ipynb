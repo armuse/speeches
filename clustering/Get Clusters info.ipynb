{
 "cells": [
  {
   "cell_type": "code",
   "execution_count": 105,
   "metadata": {},
   "outputs": [],
   "source": [
    "from nltk.tokenize import word_tokenize\n",
    "from sklearn.feature_extraction.text import TfidfVectorizer\n",
    "from sklearn.feature_extraction.text import CountVectorizer\n",
    "from sklearn.feature_extraction.text import TfidfTransformer\n",
    "from sklearn.cluster import KMeans\n",
    "from sklearn.metrics import adjusted_rand_score\n",
    "import glob\n",
    "import pandas as pd\n",
    "from numpy import random\n",
    "import matplotlib.pyplot as plt\n",
    "from sklearn.manifold import TSNE\n",
    "from sklearn.decomposition import PCA"
   ]
  },
  {
   "cell_type": "code",
   "execution_count": 106,
   "metadata": {},
   "outputs": [],
   "source": [
    "transcripts = glob.glob('../data/Trump/*.txt')\n",
    "#transcripts = glob.glob('../data/Biden/*.txt')"
   ]
  },
  {
   "cell_type": "code",
   "execution_count": 107,
   "metadata": {},
   "outputs": [],
   "source": [
    "trainFrac = int(len(transcripts)*0.9)\n",
    "\n",
    "training = transcripts[:trainFrac]\n",
    "testing = transcripts[trainFrac:]"
   ]
  },
  {
   "cell_type": "code",
   "execution_count": 104,
   "metadata": {},
   "outputs": [],
   "source": [
    "speeches = []\n",
    "for i in range(len(training)):\n",
    "    speech = open(training[i],'r')\n",
    "    words = []\n",
    "    for line in speech:\n",
    "        words += word_tokenize(line)\n",
    "    seperator = ' '\n",
    "    speeches.append(seperator.join(words))"
   ]
  },
  {
   "cell_type": "code",
   "execution_count": 103,
   "metadata": {},
   "outputs": [],
   "source": [
    "cv = CountVectorizer(analyzer = 'word', max_features = 50, lowercase=True, preprocessor=None, tokenizer=None, stop_words = 'english')  \n",
    "vectors = cv.fit_transform(speeches)\n",
    "kmeans = KMeans(n_clusters = 3, init = 'k-means++', random_state = 0)\n",
    "kmean_indices = kmeans.fit_predict(vectors)"
   ]
  },
  {
   "cell_type": "code",
   "execution_count": 99,
   "metadata": {},
   "outputs": [
    {
     "name": "stdout",
     "output_type": "stream",
     "text": [
      "[0 2 0 2 0 2 0 2 1 2 2 0 0 0 2 2 0]\n",
      "['../data/Trump/May302020.txt', '../data/Trump/July152020.txt', '../data/Trump/June262020.txt', '../data/Trump/May212020.txt', '../data/Trump/July042020.txt', '../data/Trump/May152020.txt', '../data/Trump/June132020.txt', '../data/Trump/July162020.txt', '../data/Trump/July072020.txt', '../data/Trump/May142020.txt', '../data/Trump/July242020.txt', '../data/Trump/July022020.txt', '../data/Trump/June172020.txt', '../data/Trump/July032020.txt', '../data/Trump/May192020.txt', '../data/Trump/May262020.txt', '../data/Trump/July092020.txt', '../data/Trump/June232020.txt', '../data/Trump/May252020.txt']\n"
     ]
    }
   ],
   "source": [
    "#inputs for DowJones notebook\n",
    "print(kmean_indices)\n",
    "print(transcripts)"
   ]
  },
  {
   "cell_type": "code",
   "execution_count": 96,
   "metadata": {},
   "outputs": [],
   "source": []
  },
  {
   "cell_type": "code",
   "execution_count": 102,
   "metadata": {},
   "outputs": [
    {
     "name": "stdout",
     "output_type": "stream",
     "text": [
      "Cluster 0: \n",
      " thank\n",
      " american\n",
      " great\n",
      " people\n",
      " america\n",
      " country\n",
      " want\n",
      " going\n",
      " years\n",
      " president\n",
      "Cluster 1: \n",
      " thank\n",
      " president\n",
      " schools\n",
      " school\n",
      " want\n",
      " children\n",
      " going\n",
      " important\n",
      " today\n",
      " great\n",
      "Cluster 2: \n",
      " thank\n",
      " going\n",
      " people\n",
      " great\n",
      " want\n",
      " president\n",
      " think\n",
      " know\n",
      " good\n",
      " years\n"
     ]
    }
   ],
   "source": [
    "order_centroids = kmeans.cluster_centers_.argsort()[:, ::-1]\n",
    "terms = cv.get_feature_names()\n",
    "for i in range(3):\n",
    "    print(\"Cluster %d: \" % i),\n",
    "    for ind in order_centroids[i, :10]:\n",
    "        print(' %s' % terms[ind]),"
   ]
  },
  {
   "cell_type": "code",
   "execution_count": 101,
   "metadata": {},
   "outputs": [],
   "source": [
    "\n",
    "#don't have time to make nice plot\n",
    "#colors = [\"r\", \"b\", \"c\" ,\"m\"]\n",
    "\n",
    "#pca = PCA(n_components=2)\n",
    "#scatter_plot_points = pca.fit_transform(vectors.toarray())\n",
    "\n",
    "#x_axis = [o[0] for o in scatter_plot_points]\n",
    "#y_axis = [o[1] for o in scatter_plot_points]\n",
    "#fig, ax = plt.subplots(figsize=(20,10))\n",
    "#ax.scatter(x_axis, y_axis, c=[colors[d] for d in kmean_indices])\n",
    "\n",
    "#for i, txt in enumerate(speeches):\n",
    "#    ax.annotate(txt, (x_axis[i], y_axis[i]))"
   ]
  },
  {
   "cell_type": "code",
   "execution_count": null,
   "metadata": {},
   "outputs": [],
   "source": []
  }
 ],
 "metadata": {
  "kernelspec": {
   "display_name": "Python 3",
   "language": "python",
   "name": "python3"
  },
  "language_info": {
   "codemirror_mode": {
    "name": "ipython",
    "version": 3
   },
   "file_extension": ".py",
   "mimetype": "text/x-python",
   "name": "python",
   "nbconvert_exporter": "python",
   "pygments_lexer": "ipython3",
   "version": "3.7.6"
  }
 },
 "nbformat": 4,
 "nbformat_minor": 4
}
