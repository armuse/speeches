{
 "cells": [
  {
   "cell_type": "code",
   "execution_count": 1,
   "metadata": {},
   "outputs": [],
   "source": [
    "import pandas as pd\n",
    "import datetime\n",
    "import matplotlib.pyplot as plt\n",
    "import numpy as np\n",
    "from sklearn.linear_model import LinearRegression\n",
    "from sklearn.metrics import r2_score"
   ]
  },
  {
   "cell_type": "code",
   "execution_count": 2,
   "metadata": {},
   "outputs": [
    {
     "data": {
      "text/html": [
       "<div>\n",
       "<style scoped>\n",
       "    .dataframe tbody tr th:only-of-type {\n",
       "        vertical-align: middle;\n",
       "    }\n",
       "\n",
       "    .dataframe tbody tr th {\n",
       "        vertical-align: top;\n",
       "    }\n",
       "\n",
       "    .dataframe thead th {\n",
       "        text-align: right;\n",
       "    }\n",
       "</style>\n",
       "<table border=\"1\" class=\"dataframe\">\n",
       "  <thead>\n",
       "    <tr style=\"text-align: right;\">\n",
       "      <th></th>\n",
       "      <th>Date</th>\n",
       "      <th>Open</th>\n",
       "      <th>High</th>\n",
       "      <th>Low</th>\n",
       "      <th>Close</th>\n",
       "      <th>Adj Close</th>\n",
       "      <th>Volume</th>\n",
       "    </tr>\n",
       "  </thead>\n",
       "  <tbody>\n",
       "    <tr>\n",
       "      <th>0</th>\n",
       "      <td>2019-07-29</td>\n",
       "      <td>27192.240234</td>\n",
       "      <td>27275.849609</td>\n",
       "      <td>27178.060547</td>\n",
       "      <td>27221.349609</td>\n",
       "      <td>27221.349609</td>\n",
       "      <td>250850000</td>\n",
       "    </tr>\n",
       "    <tr>\n",
       "      <th>1</th>\n",
       "      <td>2019-07-30</td>\n",
       "      <td>27145.390625</td>\n",
       "      <td>27224.359375</td>\n",
       "      <td>27069.859375</td>\n",
       "      <td>27198.019531</td>\n",
       "      <td>27198.019531</td>\n",
       "      <td>293250000</td>\n",
       "    </tr>\n",
       "    <tr>\n",
       "      <th>2</th>\n",
       "      <td>2019-07-31</td>\n",
       "      <td>27244.669922</td>\n",
       "      <td>27281.650391</td>\n",
       "      <td>26719.599609</td>\n",
       "      <td>26864.269531</td>\n",
       "      <td>26864.269531</td>\n",
       "      <td>385150000</td>\n",
       "    </tr>\n",
       "    <tr>\n",
       "      <th>3</th>\n",
       "      <td>2019-08-01</td>\n",
       "      <td>26879.859375</td>\n",
       "      <td>27175.589844</td>\n",
       "      <td>26548.710938</td>\n",
       "      <td>26583.419922</td>\n",
       "      <td>26583.419922</td>\n",
       "      <td>386320000</td>\n",
       "    </tr>\n",
       "    <tr>\n",
       "      <th>4</th>\n",
       "      <td>2019-08-02</td>\n",
       "      <td>26528.660156</td>\n",
       "      <td>26570.019531</td>\n",
       "      <td>26249.220703</td>\n",
       "      <td>26485.009766</td>\n",
       "      <td>26485.009766</td>\n",
       "      <td>327640000</td>\n",
       "    </tr>\n",
       "  </tbody>\n",
       "</table>\n",
       "</div>"
      ],
      "text/plain": [
       "         Date          Open          High           Low         Close  \\\n",
       "0  2019-07-29  27192.240234  27275.849609  27178.060547  27221.349609   \n",
       "1  2019-07-30  27145.390625  27224.359375  27069.859375  27198.019531   \n",
       "2  2019-07-31  27244.669922  27281.650391  26719.599609  26864.269531   \n",
       "3  2019-08-01  26879.859375  27175.589844  26548.710938  26583.419922   \n",
       "4  2019-08-02  26528.660156  26570.019531  26249.220703  26485.009766   \n",
       "\n",
       "      Adj Close     Volume  \n",
       "0  27221.349609  250850000  \n",
       "1  27198.019531  293250000  \n",
       "2  26864.269531  385150000  \n",
       "3  26583.419922  386320000  \n",
       "4  26485.009766  327640000  "
      ]
     },
     "execution_count": 2,
     "metadata": {},
     "output_type": "execute_result"
    }
   ],
   "source": [
    "dowjones = pd.read_csv('DJI.csv')\n",
    "dowjones.head()"
   ]
  },
  {
   "cell_type": "code",
   "execution_count": 3,
   "metadata": {},
   "outputs": [
    {
     "data": {
      "text/html": [
       "<div>\n",
       "<style scoped>\n",
       "    .dataframe tbody tr th:only-of-type {\n",
       "        vertical-align: middle;\n",
       "    }\n",
       "\n",
       "    .dataframe tbody tr th {\n",
       "        vertical-align: top;\n",
       "    }\n",
       "\n",
       "    .dataframe thead th {\n",
       "        text-align: right;\n",
       "    }\n",
       "</style>\n",
       "<table border=\"1\" class=\"dataframe\">\n",
       "  <thead>\n",
       "    <tr style=\"text-align: right;\">\n",
       "      <th></th>\n",
       "      <th>Date</th>\n",
       "      <th>Close</th>\n",
       "      <th>Volume</th>\n",
       "    </tr>\n",
       "  </thead>\n",
       "  <tbody>\n",
       "    <tr>\n",
       "      <th>0</th>\n",
       "      <td>2019-07-29</td>\n",
       "      <td>27221.349609</td>\n",
       "      <td>250850000</td>\n",
       "    </tr>\n",
       "    <tr>\n",
       "      <th>1</th>\n",
       "      <td>2019-07-30</td>\n",
       "      <td>27198.019531</td>\n",
       "      <td>293250000</td>\n",
       "    </tr>\n",
       "    <tr>\n",
       "      <th>2</th>\n",
       "      <td>2019-07-31</td>\n",
       "      <td>26864.269531</td>\n",
       "      <td>385150000</td>\n",
       "    </tr>\n",
       "    <tr>\n",
       "      <th>3</th>\n",
       "      <td>2019-08-01</td>\n",
       "      <td>26583.419922</td>\n",
       "      <td>386320000</td>\n",
       "    </tr>\n",
       "    <tr>\n",
       "      <th>4</th>\n",
       "      <td>2019-08-02</td>\n",
       "      <td>26485.009766</td>\n",
       "      <td>327640000</td>\n",
       "    </tr>\n",
       "    <tr>\n",
       "      <th>...</th>\n",
       "      <td>...</td>\n",
       "      <td>...</td>\n",
       "      <td>...</td>\n",
       "    </tr>\n",
       "    <tr>\n",
       "      <th>248</th>\n",
       "      <td>2020-07-22</td>\n",
       "      <td>27005.839844</td>\n",
       "      <td>404340000</td>\n",
       "    </tr>\n",
       "    <tr>\n",
       "      <th>249</th>\n",
       "      <td>2020-07-23</td>\n",
       "      <td>26652.330078</td>\n",
       "      <td>419800000</td>\n",
       "    </tr>\n",
       "    <tr>\n",
       "      <th>250</th>\n",
       "      <td>2020-07-24</td>\n",
       "      <td>26469.890625</td>\n",
       "      <td>494170000</td>\n",
       "    </tr>\n",
       "    <tr>\n",
       "      <th>251</th>\n",
       "      <td>2020-07-27</td>\n",
       "      <td>26584.769531</td>\n",
       "      <td>389810000</td>\n",
       "    </tr>\n",
       "    <tr>\n",
       "      <th>252</th>\n",
       "      <td>2020-07-28</td>\n",
       "      <td>26472.099609</td>\n",
       "      <td>196893762</td>\n",
       "    </tr>\n",
       "  </tbody>\n",
       "</table>\n",
       "<p>253 rows × 3 columns</p>\n",
       "</div>"
      ],
      "text/plain": [
       "           Date         Close     Volume\n",
       "0    2019-07-29  27221.349609  250850000\n",
       "1    2019-07-30  27198.019531  293250000\n",
       "2    2019-07-31  26864.269531  385150000\n",
       "3    2019-08-01  26583.419922  386320000\n",
       "4    2019-08-02  26485.009766  327640000\n",
       "..          ...           ...        ...\n",
       "248  2020-07-22  27005.839844  404340000\n",
       "249  2020-07-23  26652.330078  419800000\n",
       "250  2020-07-24  26469.890625  494170000\n",
       "251  2020-07-27  26584.769531  389810000\n",
       "252  2020-07-28  26472.099609  196893762\n",
       "\n",
       "[253 rows x 3 columns]"
      ]
     },
     "execution_count": 3,
     "metadata": {},
     "output_type": "execute_result"
    }
   ],
   "source": [
    "dowjones.drop(columns=['Open','High','Low','Adj Close'],inplace=True)"
   ]
  },
  {
   "cell_type": "code",
   "execution_count": 4,
   "metadata": {},
   "outputs": [],
   "source": [
    "dowjones['Date'] = pd.to_datetime(dowjones['Date'])"
   ]
  },
  {
   "cell_type": "code",
   "execution_count": 16,
   "metadata": {},
   "outputs": [
    {
     "name": "stdout",
     "output_type": "stream",
     "text": [
      "May302020\n",
      "2020-05-30 00:00:00\n",
      "July152020\n",
      "2020-07-15 00:00:00\n",
      "June262020\n",
      "2020-06-26 00:00:00\n",
      "May212020\n",
      "2020-05-21 00:00:00\n",
      "July042020\n",
      "2020-07-04 00:00:00\n",
      "May152020\n",
      "2020-05-15 00:00:00\n",
      "June132020\n",
      "2020-06-13 00:00:00\n",
      "July162020\n",
      "2020-07-16 00:00:00\n",
      "July072020\n",
      "2020-07-07 00:00:00\n",
      "May142020\n",
      "2020-05-14 00:00:00\n",
      "July242020\n",
      "2020-07-24 00:00:00\n",
      "July022020\n",
      "2020-07-02 00:00:00\n",
      "June172020\n",
      "2020-06-17 00:00:00\n",
      "July032020\n",
      "2020-07-03 00:00:00\n",
      "May192020\n",
      "2020-05-19 00:00:00\n",
      "May262020\n",
      "2020-05-26 00:00:00\n",
      "July092020\n",
      "2020-07-09 00:00:00\n",
      "June232020\n",
      "2020-06-23 00:00:00\n",
      "May252020\n",
      "2020-05-25 00:00:00\n"
     ]
    }
   ],
   "source": [
    "#biden\n",
    "#classified_clusters = [2, 2, 2, 0, 2, 2, 0, 2, 2, 2, 0, 1, 2, 2, 2, 0, 2, 0, 2]\n",
    "#speech_dates = ['../data/Biden/March122020.txt',\n",
    "# '../data/Biden/June092020.txt',\n",
    "# '../data/Biden/May292020.txt',\n",
    "# '../data/Biden/April072020.txt',\n",
    "# '../data/Biden/October092019.txt',\n",
    "# '../data/Biden/July042020.txt',\n",
    "# '../data/Biden/July142020.txt',\n",
    "# '../data/Biden/June252020.txt',\n",
    "# '../data/Biden/June022020.txt',\n",
    "# '../data/Biden/March102020.txt',\n",
    "# '../data/Biden/July212020.txt',\n",
    "# '../data/Biden/May042020.txt',\n",
    "# '../data/Biden/March232020.txt',\n",
    "# '../data/Biden/July022020.txt',\n",
    "# '../data/Biden/June172020.txt',\n",
    "# '../data/Biden/July032020.txt',\n",
    "# '../data/Biden/February292020.txt',\n",
    "# '../data/Biden/July082020.txt',\n",
    "# '../data/Biden/August082019.txt',\n",
    "# '../data/Biden/July092020.txt',\n",
    "# '../data/Biden/February172020.txt',\n",
    "# '../data/Biden/March172020.txt']\n",
    "\n",
    "#trump\n",
    "classified_clusters = [0, 2, 0, 2, 0, 2, 0, 2, 1, 2, 2, 0, 0, 0, 2, 2, 0]\n",
    "speech_dates = ['../data/Trump/May302020.txt', '../data/Trump/July152020.txt', '../data/Trump/June262020.txt', '../data/Trump/May212020.txt', '../data/Trump/July042020.txt', '../data/Trump/May152020.txt', '../data/Trump/June132020.txt', '../data/Trump/July162020.txt', '../data/Trump/July072020.txt', '../data/Trump/May142020.txt', '../data/Trump/July242020.txt', '../data/Trump/July022020.txt', '../data/Trump/June172020.txt', '../data/Trump/July032020.txt', '../data/Trump/May192020.txt', '../data/Trump/May262020.txt', '../data/Trump/July092020.txt', '../data/Trump/June232020.txt', '../data/Trump/May252020.txt']\n",
    "\n",
    "dates = []\n",
    "for i in range(len(speech_dates)):\n",
    "    print(speech_dates[i][14:-4])\n",
    "    date_time_str = speech_dates[i][14:-4] #add spaces\n",
    "    date_time_obj = datetime.datetime.strptime(date_time_str, '%B%d%Y')\n",
    "    print(date_time_obj)\n",
    "    dates.append(date_time_obj)\n",
    "#    datetime_obj = datetime.strptime(datetime(speech_dates[i][14:-4]),'%B%d%Y').date()\n"
   ]
  },
  {
   "cell_type": "code",
   "execution_count": 19,
   "metadata": {},
   "outputs": [
    {
     "data": {
      "text/plain": [
       "15"
      ]
     },
     "execution_count": 19,
     "metadata": {},
     "output_type": "execute_result"
    }
   ],
   "source": [
    "#dates = dates[] #remove validation/testing ones - automate later\n",
    "len(classified_clusters)\n",
    "len(dates)"
   ]
  },
  {
   "cell_type": "code",
   "execution_count": 8,
   "metadata": {},
   "outputs": [
    {
     "ename": "ValueError",
     "evalue": "arrays must all be same length",
     "output_type": "error",
     "traceback": [
      "\u001b[0;31m---------------------------------------------------------------------------\u001b[0m",
      "\u001b[0;31mValueError\u001b[0m                                Traceback (most recent call last)",
      "\u001b[0;32m<ipython-input-8-bb54fb469093>\u001b[0m in \u001b[0;36m<module>\u001b[0;34m\u001b[0m\n\u001b[1;32m      1\u001b[0m \u001b[0mspeeches\u001b[0m \u001b[0;34m=\u001b[0m \u001b[0;34m{\u001b[0m\u001b[0;34m'speech_date'\u001b[0m\u001b[0;34m:\u001b[0m\u001b[0mdates\u001b[0m\u001b[0;34m,\u001b[0m \u001b[0;34m'cluster'\u001b[0m\u001b[0;34m:\u001b[0m\u001b[0mclassified_clusters\u001b[0m\u001b[0;34m,\u001b[0m \u001b[0;34m'Close'\u001b[0m\u001b[0;34m:\u001b[0m\u001b[0mnp\u001b[0m\u001b[0;34m.\u001b[0m\u001b[0mzeros\u001b[0m\u001b[0;34m(\u001b[0m\u001b[0mlen\u001b[0m\u001b[0;34m(\u001b[0m\u001b[0mdates\u001b[0m\u001b[0;34m)\u001b[0m\u001b[0;34m)\u001b[0m\u001b[0;34m}\u001b[0m\u001b[0;34m\u001b[0m\u001b[0;34m\u001b[0m\u001b[0m\n\u001b[0;32m----> 2\u001b[0;31m \u001b[0mdf\u001b[0m \u001b[0;34m=\u001b[0m \u001b[0mpd\u001b[0m\u001b[0;34m.\u001b[0m\u001b[0mDataFrame\u001b[0m\u001b[0;34m(\u001b[0m\u001b[0mdata\u001b[0m\u001b[0;34m=\u001b[0m\u001b[0mspeeches\u001b[0m\u001b[0;34m)\u001b[0m\u001b[0;34m\u001b[0m\u001b[0;34m\u001b[0m\u001b[0m\n\u001b[0m\u001b[1;32m      3\u001b[0m \u001b[0;31m#df.head()\u001b[0m\u001b[0;34m\u001b[0m\u001b[0;34m\u001b[0m\u001b[0;34m\u001b[0m\u001b[0m\n",
      "\u001b[0;32m~/opt/anaconda3/lib/python3.7/site-packages/pandas/core/frame.py\u001b[0m in \u001b[0;36m__init__\u001b[0;34m(self, data, index, columns, dtype, copy)\u001b[0m\n\u001b[1;32m    433\u001b[0m             )\n\u001b[1;32m    434\u001b[0m         \u001b[0;32melif\u001b[0m \u001b[0misinstance\u001b[0m\u001b[0;34m(\u001b[0m\u001b[0mdata\u001b[0m\u001b[0;34m,\u001b[0m \u001b[0mdict\u001b[0m\u001b[0;34m)\u001b[0m\u001b[0;34m:\u001b[0m\u001b[0;34m\u001b[0m\u001b[0;34m\u001b[0m\u001b[0m\n\u001b[0;32m--> 435\u001b[0;31m             \u001b[0mmgr\u001b[0m \u001b[0;34m=\u001b[0m \u001b[0minit_dict\u001b[0m\u001b[0;34m(\u001b[0m\u001b[0mdata\u001b[0m\u001b[0;34m,\u001b[0m \u001b[0mindex\u001b[0m\u001b[0;34m,\u001b[0m \u001b[0mcolumns\u001b[0m\u001b[0;34m,\u001b[0m \u001b[0mdtype\u001b[0m\u001b[0;34m=\u001b[0m\u001b[0mdtype\u001b[0m\u001b[0;34m)\u001b[0m\u001b[0;34m\u001b[0m\u001b[0;34m\u001b[0m\u001b[0m\n\u001b[0m\u001b[1;32m    436\u001b[0m         \u001b[0;32melif\u001b[0m \u001b[0misinstance\u001b[0m\u001b[0;34m(\u001b[0m\u001b[0mdata\u001b[0m\u001b[0;34m,\u001b[0m \u001b[0mma\u001b[0m\u001b[0;34m.\u001b[0m\u001b[0mMaskedArray\u001b[0m\u001b[0;34m)\u001b[0m\u001b[0;34m:\u001b[0m\u001b[0;34m\u001b[0m\u001b[0;34m\u001b[0m\u001b[0m\n\u001b[1;32m    437\u001b[0m             \u001b[0;32mimport\u001b[0m \u001b[0mnumpy\u001b[0m\u001b[0;34m.\u001b[0m\u001b[0mma\u001b[0m\u001b[0;34m.\u001b[0m\u001b[0mmrecords\u001b[0m \u001b[0;32mas\u001b[0m \u001b[0mmrecords\u001b[0m\u001b[0;34m\u001b[0m\u001b[0;34m\u001b[0m\u001b[0m\n",
      "\u001b[0;32m~/opt/anaconda3/lib/python3.7/site-packages/pandas/core/internals/construction.py\u001b[0m in \u001b[0;36minit_dict\u001b[0;34m(data, index, columns, dtype)\u001b[0m\n\u001b[1;32m    252\u001b[0m             \u001b[0marr\u001b[0m \u001b[0;32mif\u001b[0m \u001b[0;32mnot\u001b[0m \u001b[0mis_datetime64tz_dtype\u001b[0m\u001b[0;34m(\u001b[0m\u001b[0marr\u001b[0m\u001b[0;34m)\u001b[0m \u001b[0;32melse\u001b[0m \u001b[0marr\u001b[0m\u001b[0;34m.\u001b[0m\u001b[0mcopy\u001b[0m\u001b[0;34m(\u001b[0m\u001b[0;34m)\u001b[0m \u001b[0;32mfor\u001b[0m \u001b[0marr\u001b[0m \u001b[0;32min\u001b[0m \u001b[0marrays\u001b[0m\u001b[0;34m\u001b[0m\u001b[0;34m\u001b[0m\u001b[0m\n\u001b[1;32m    253\u001b[0m         ]\n\u001b[0;32m--> 254\u001b[0;31m     \u001b[0;32mreturn\u001b[0m \u001b[0marrays_to_mgr\u001b[0m\u001b[0;34m(\u001b[0m\u001b[0marrays\u001b[0m\u001b[0;34m,\u001b[0m \u001b[0mdata_names\u001b[0m\u001b[0;34m,\u001b[0m \u001b[0mindex\u001b[0m\u001b[0;34m,\u001b[0m \u001b[0mcolumns\u001b[0m\u001b[0;34m,\u001b[0m \u001b[0mdtype\u001b[0m\u001b[0;34m=\u001b[0m\u001b[0mdtype\u001b[0m\u001b[0;34m)\u001b[0m\u001b[0;34m\u001b[0m\u001b[0;34m\u001b[0m\u001b[0m\n\u001b[0m\u001b[1;32m    255\u001b[0m \u001b[0;34m\u001b[0m\u001b[0m\n\u001b[1;32m    256\u001b[0m \u001b[0;34m\u001b[0m\u001b[0m\n",
      "\u001b[0;32m~/opt/anaconda3/lib/python3.7/site-packages/pandas/core/internals/construction.py\u001b[0m in \u001b[0;36marrays_to_mgr\u001b[0;34m(arrays, arr_names, index, columns, dtype)\u001b[0m\n\u001b[1;32m     62\u001b[0m     \u001b[0;31m# figure out the index, if necessary\u001b[0m\u001b[0;34m\u001b[0m\u001b[0;34m\u001b[0m\u001b[0;34m\u001b[0m\u001b[0m\n\u001b[1;32m     63\u001b[0m     \u001b[0;32mif\u001b[0m \u001b[0mindex\u001b[0m \u001b[0;32mis\u001b[0m \u001b[0;32mNone\u001b[0m\u001b[0;34m:\u001b[0m\u001b[0;34m\u001b[0m\u001b[0;34m\u001b[0m\u001b[0m\n\u001b[0;32m---> 64\u001b[0;31m         \u001b[0mindex\u001b[0m \u001b[0;34m=\u001b[0m \u001b[0mextract_index\u001b[0m\u001b[0;34m(\u001b[0m\u001b[0marrays\u001b[0m\u001b[0;34m)\u001b[0m\u001b[0;34m\u001b[0m\u001b[0;34m\u001b[0m\u001b[0m\n\u001b[0m\u001b[1;32m     65\u001b[0m     \u001b[0;32melse\u001b[0m\u001b[0;34m:\u001b[0m\u001b[0;34m\u001b[0m\u001b[0;34m\u001b[0m\u001b[0m\n\u001b[1;32m     66\u001b[0m         \u001b[0mindex\u001b[0m \u001b[0;34m=\u001b[0m \u001b[0mensure_index\u001b[0m\u001b[0;34m(\u001b[0m\u001b[0mindex\u001b[0m\u001b[0;34m)\u001b[0m\u001b[0;34m\u001b[0m\u001b[0;34m\u001b[0m\u001b[0m\n",
      "\u001b[0;32m~/opt/anaconda3/lib/python3.7/site-packages/pandas/core/internals/construction.py\u001b[0m in \u001b[0;36mextract_index\u001b[0;34m(data)\u001b[0m\n\u001b[1;32m    363\u001b[0m             \u001b[0mlengths\u001b[0m \u001b[0;34m=\u001b[0m \u001b[0mlist\u001b[0m\u001b[0;34m(\u001b[0m\u001b[0mset\u001b[0m\u001b[0;34m(\u001b[0m\u001b[0mraw_lengths\u001b[0m\u001b[0;34m)\u001b[0m\u001b[0;34m)\u001b[0m\u001b[0;34m\u001b[0m\u001b[0;34m\u001b[0m\u001b[0m\n\u001b[1;32m    364\u001b[0m             \u001b[0;32mif\u001b[0m \u001b[0mlen\u001b[0m\u001b[0;34m(\u001b[0m\u001b[0mlengths\u001b[0m\u001b[0;34m)\u001b[0m \u001b[0;34m>\u001b[0m \u001b[0;36m1\u001b[0m\u001b[0;34m:\u001b[0m\u001b[0;34m\u001b[0m\u001b[0;34m\u001b[0m\u001b[0m\n\u001b[0;32m--> 365\u001b[0;31m                 \u001b[0;32mraise\u001b[0m \u001b[0mValueError\u001b[0m\u001b[0;34m(\u001b[0m\u001b[0;34m\"arrays must all be same length\"\u001b[0m\u001b[0;34m)\u001b[0m\u001b[0;34m\u001b[0m\u001b[0;34m\u001b[0m\u001b[0m\n\u001b[0m\u001b[1;32m    366\u001b[0m \u001b[0;34m\u001b[0m\u001b[0m\n\u001b[1;32m    367\u001b[0m             \u001b[0;32mif\u001b[0m \u001b[0mhave_dicts\u001b[0m\u001b[0;34m:\u001b[0m\u001b[0;34m\u001b[0m\u001b[0;34m\u001b[0m\u001b[0m\n",
      "\u001b[0;31mValueError\u001b[0m: arrays must all be same length"
     ]
    }
   ],
   "source": [
    "speeches = {'speech_date':dates, 'cluster':classified_clusters, 'Close':np.zeros(len(dates))}\n",
    "df = pd.DataFrame(data=speeches)\n",
    "#df.head()"
   ]
  },
  {
   "cell_type": "code",
   "execution_count": null,
   "metadata": {},
   "outputs": [],
   "source": [
    "#for matching dates, save out 'Close'"
   ]
  },
  {
   "cell_type": "code",
   "execution_count": null,
   "metadata": {},
   "outputs": [],
   "source": [
    "clo = []\n",
    "for i in range(len(df)):\n",
    "    for j in range(len(dowjones)):\n",
    "        if (dowjones['Date'].iloc[j] == df['speech_date'].iloc[i]):\n",
    "            clo.append([df['speech_date'].iloc[i],dowjones['Close'].iloc[j],df['cluster'].iloc[i]])\n",
    "            #print(dowjones['Close'].iloc[j])\n",
    "            #df['Close'] = df['Close'].replace([0.0],dowjones['Close'].iloc[j])\n",
    "print(clo)"
   ]
  },
  {
   "cell_type": "code",
   "execution_count": null,
   "metadata": {},
   "outputs": [],
   "source": [
    "#add Cluster to clo\n",
    "new_df = pd.DataFrame(data=clo,columns=['Date','Close','Cluster'])\n",
    "new_df"
   ]
  },
  {
   "cell_type": "code",
   "execution_count": null,
   "metadata": {},
   "outputs": [],
   "source": [
    "regressor = LinearRegression()\n",
    "X = new_df['Cluster'].values.reshape(-1,1)\n",
    "y = new_df['Close'].values\n",
    "regressor.fit(X,y)\n",
    "pred_y = regressor.predict(X)\n",
    "r2_score(y,pred_y)"
   ]
  },
  {
   "cell_type": "code",
   "execution_count": null,
   "metadata": {},
   "outputs": [],
   "source": []
  }
 ],
 "metadata": {
  "kernelspec": {
   "display_name": "Python 3",
   "language": "python",
   "name": "python3"
  },
  "language_info": {
   "codemirror_mode": {
    "name": "ipython",
    "version": 3
   },
   "file_extension": ".py",
   "mimetype": "text/x-python",
   "name": "python",
   "nbconvert_exporter": "python",
   "pygments_lexer": "ipython3",
   "version": "3.7.6"
  }
 },
 "nbformat": 4,
 "nbformat_minor": 4
}
