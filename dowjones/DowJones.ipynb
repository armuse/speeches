{
 "cells": [
  {
   "cell_type": "code",
   "execution_count": 1,
   "metadata": {},
   "outputs": [],
   "source": [
    "import pandas as pd\n",
    "import datetime\n",
    "import matplotlib.pyplot as plt\n",
    "import numpy as np\n",
    "from sklearn.linear_model import LinearRegression\n",
    "from sklearn.metrics import r2_score"
   ]
  },
  {
   "cell_type": "code",
   "execution_count": 29,
   "metadata": {},
   "outputs": [
    {
     "data": {
      "text/html": [
       "<div>\n",
       "<style scoped>\n",
       "    .dataframe tbody tr th:only-of-type {\n",
       "        vertical-align: middle;\n",
       "    }\n",
       "\n",
       "    .dataframe tbody tr th {\n",
       "        vertical-align: top;\n",
       "    }\n",
       "\n",
       "    .dataframe thead th {\n",
       "        text-align: right;\n",
       "    }\n",
       "</style>\n",
       "<table border=\"1\" class=\"dataframe\">\n",
       "  <thead>\n",
       "    <tr style=\"text-align: right;\">\n",
       "      <th></th>\n",
       "      <th>Date</th>\n",
       "      <th>Open</th>\n",
       "      <th>High</th>\n",
       "      <th>Low</th>\n",
       "      <th>Close</th>\n",
       "      <th>Adj Close</th>\n",
       "      <th>Volume</th>\n",
       "    </tr>\n",
       "  </thead>\n",
       "  <tbody>\n",
       "    <tr>\n",
       "      <th>0</th>\n",
       "      <td>2019-07-29</td>\n",
       "      <td>27192.240234</td>\n",
       "      <td>27275.849609</td>\n",
       "      <td>27178.060547</td>\n",
       "      <td>27221.349609</td>\n",
       "      <td>27221.349609</td>\n",
       "      <td>250850000</td>\n",
       "    </tr>\n",
       "    <tr>\n",
       "      <th>1</th>\n",
       "      <td>2019-07-30</td>\n",
       "      <td>27145.390625</td>\n",
       "      <td>27224.359375</td>\n",
       "      <td>27069.859375</td>\n",
       "      <td>27198.019531</td>\n",
       "      <td>27198.019531</td>\n",
       "      <td>293250000</td>\n",
       "    </tr>\n",
       "    <tr>\n",
       "      <th>2</th>\n",
       "      <td>2019-07-31</td>\n",
       "      <td>27244.669922</td>\n",
       "      <td>27281.650391</td>\n",
       "      <td>26719.599609</td>\n",
       "      <td>26864.269531</td>\n",
       "      <td>26864.269531</td>\n",
       "      <td>385150000</td>\n",
       "    </tr>\n",
       "    <tr>\n",
       "      <th>3</th>\n",
       "      <td>2019-08-01</td>\n",
       "      <td>26879.859375</td>\n",
       "      <td>27175.589844</td>\n",
       "      <td>26548.710938</td>\n",
       "      <td>26583.419922</td>\n",
       "      <td>26583.419922</td>\n",
       "      <td>386320000</td>\n",
       "    </tr>\n",
       "    <tr>\n",
       "      <th>4</th>\n",
       "      <td>2019-08-02</td>\n",
       "      <td>26528.660156</td>\n",
       "      <td>26570.019531</td>\n",
       "      <td>26249.220703</td>\n",
       "      <td>26485.009766</td>\n",
       "      <td>26485.009766</td>\n",
       "      <td>327640000</td>\n",
       "    </tr>\n",
       "  </tbody>\n",
       "</table>\n",
       "</div>"
      ],
      "text/plain": [
       "         Date          Open          High           Low         Close  \\\n",
       "0  2019-07-29  27192.240234  27275.849609  27178.060547  27221.349609   \n",
       "1  2019-07-30  27145.390625  27224.359375  27069.859375  27198.019531   \n",
       "2  2019-07-31  27244.669922  27281.650391  26719.599609  26864.269531   \n",
       "3  2019-08-01  26879.859375  27175.589844  26548.710938  26583.419922   \n",
       "4  2019-08-02  26528.660156  26570.019531  26249.220703  26485.009766   \n",
       "\n",
       "      Adj Close     Volume  \n",
       "0  27221.349609  250850000  \n",
       "1  27198.019531  293250000  \n",
       "2  26864.269531  385150000  \n",
       "3  26583.419922  386320000  \n",
       "4  26485.009766  327640000  "
      ]
     },
     "execution_count": 29,
     "metadata": {},
     "output_type": "execute_result"
    }
   ],
   "source": [
    "dowjones = pd.read_csv('DJI.csv')\n",
    "dowjones.head()"
   ]
  },
  {
   "cell_type": "code",
   "execution_count": 30,
   "metadata": {},
   "outputs": [],
   "source": [
    "dowjones.drop(columns=['Open','High','Low','Adj Close'],inplace=True)"
   ]
  },
  {
   "cell_type": "code",
   "execution_count": 31,
   "metadata": {},
   "outputs": [],
   "source": [
    "dowjones['Date'] = pd.to_datetime(dowjones['Date'])"
   ]
  },
  {
   "cell_type": "code",
   "execution_count": 20,
   "metadata": {},
   "outputs": [
    {
     "name": "stdout",
     "output_type": "stream",
     "text": [
      "May302020\n",
      "2020-05-30 00:00:00\n",
      "July152020\n",
      "2020-07-15 00:00:00\n",
      "June262020\n",
      "2020-06-26 00:00:00\n",
      "May212020\n",
      "2020-05-21 00:00:00\n",
      "July042020\n",
      "2020-07-04 00:00:00\n",
      "May152020\n",
      "2020-05-15 00:00:00\n",
      "June132020\n",
      "2020-06-13 00:00:00\n",
      "July162020\n",
      "2020-07-16 00:00:00\n",
      "July072020\n",
      "2020-07-07 00:00:00\n",
      "May142020\n",
      "2020-05-14 00:00:00\n",
      "July242020\n",
      "2020-07-24 00:00:00\n",
      "July022020\n",
      "2020-07-02 00:00:00\n",
      "June172020\n",
      "2020-06-17 00:00:00\n",
      "July032020\n",
      "2020-07-03 00:00:00\n",
      "May192020\n",
      "2020-05-19 00:00:00\n",
      "May262020\n",
      "2020-05-26 00:00:00\n",
      "July092020\n",
      "2020-07-09 00:00:00\n",
      "June232020\n",
      "2020-06-23 00:00:00\n",
      "May252020\n",
      "2020-05-25 00:00:00\n"
     ]
    }
   ],
   "source": [
    "#biden\n",
    "#classified_clusters = [2, 2, 2, 0, 2, 2, 0, 2, 2, 2, 0, 1, 2, 2, 2, 0, 2, 0, 2]\n",
    "#speech_dates = ['../data/Biden/March122020.txt',\n",
    "# '../data/Biden/June092020.txt',\n",
    "# '../data/Biden/May292020.txt',\n",
    "# '../data/Biden/April072020.txt',\n",
    "# '../data/Biden/October092019.txt',\n",
    "# '../data/Biden/July042020.txt',\n",
    "# '../data/Biden/July142020.txt',\n",
    "# '../data/Biden/June252020.txt',\n",
    "# '../data/Biden/June022020.txt',\n",
    "# '../data/Biden/March102020.txt',\n",
    "# '../data/Biden/July212020.txt',\n",
    "# '../data/Biden/May042020.txt',\n",
    "# '../data/Biden/March232020.txt',\n",
    "# '../data/Biden/July022020.txt',\n",
    "# '../data/Biden/June172020.txt',\n",
    "# '../data/Biden/July032020.txt',\n",
    "# '../data/Biden/February292020.txt',\n",
    "# '../data/Biden/July082020.txt',\n",
    "# '../data/Biden/August082019.txt',\n",
    "# '../data/Biden/July092020.txt',\n",
    "# '../data/Biden/February172020.txt',\n",
    "# '../data/Biden/March172020.txt']\n",
    "\n",
    "#trump\n",
    "classified_clusters = [0, 2, 0, 2, 0, 2, 0, 2, 1, 2, 2, 0, 0, 0, 2, 2, 0]\n",
    "speech_dates = ['../data/Trump/May302020.txt', '../data/Trump/July152020.txt', '../data/Trump/June262020.txt', '../data/Trump/May212020.txt', '../data/Trump/July042020.txt', '../data/Trump/May152020.txt', '../data/Trump/June132020.txt', '../data/Trump/July162020.txt', '../data/Trump/July072020.txt', '../data/Trump/May142020.txt', '../data/Trump/July242020.txt', '../data/Trump/July022020.txt', '../data/Trump/June172020.txt', '../data/Trump/July032020.txt', '../data/Trump/May192020.txt', '../data/Trump/May262020.txt', '../data/Trump/July092020.txt', '../data/Trump/June232020.txt', '../data/Trump/May252020.txt']\n",
    "\n",
    "dates = []\n",
    "for i in range(len(speech_dates)):\n",
    "    print(speech_dates[i][14:-4])\n",
    "    date_time_str = speech_dates[i][14:-4] #add spaces\n",
    "    date_time_obj = datetime.datetime.strptime(date_time_str, '%B%d%Y')\n",
    "    print(date_time_obj)\n",
    "    dates.append(date_time_obj)\n",
    "#    datetime_obj = datetime.strptime(datetime(speech_dates[i][14:-4]),'%B%d%Y').date()\n"
   ]
  },
  {
   "cell_type": "code",
   "execution_count": 23,
   "metadata": {},
   "outputs": [
    {
     "data": {
      "text/plain": [
       "17"
      ]
     },
     "execution_count": 23,
     "metadata": {},
     "output_type": "execute_result"
    }
   ],
   "source": [
    "dates = dates[:-2] #remove validation/testing ones - automate later\n",
    "len(classified_clusters)\n"
   ]
  },
  {
   "cell_type": "code",
   "execution_count": 24,
   "metadata": {},
   "outputs": [],
   "source": [
    "speeches = {'speech_date':dates, 'cluster':classified_clusters, 'Close':np.zeros(len(dates))}\n",
    "df = pd.DataFrame(data=speeches)\n",
    "#df.head()"
   ]
  },
  {
   "cell_type": "code",
   "execution_count": null,
   "metadata": {},
   "outputs": [],
   "source": [
    "#for matching dates, save out 'Close'"
   ]
  },
  {
   "cell_type": "code",
   "execution_count": 32,
   "metadata": {},
   "outputs": [],
   "source": [
    "clo = []\n",
    "#match the dowjones close to the date of speeches # is there an easy way to merge them, SQL style?\n",
    "for i in range(len(df)):\n",
    "    for j in range(len(dowjones)):\n",
    "        if (dowjones['Date'].iloc[j] == df['speech_date'].iloc[i]):\n",
    "            clo.append([df['speech_date'].iloc[i],dowjones['Close'].iloc[j],df['cluster'].iloc[i]])"
   ]
  },
  {
   "cell_type": "code",
   "execution_count": 33,
   "metadata": {},
   "outputs": [
    {
     "data": {
      "text/html": [
       "<div>\n",
       "<style scoped>\n",
       "    .dataframe tbody tr th:only-of-type {\n",
       "        vertical-align: middle;\n",
       "    }\n",
       "\n",
       "    .dataframe tbody tr th {\n",
       "        vertical-align: top;\n",
       "    }\n",
       "\n",
       "    .dataframe thead th {\n",
       "        text-align: right;\n",
       "    }\n",
       "</style>\n",
       "<table border=\"1\" class=\"dataframe\">\n",
       "  <thead>\n",
       "    <tr style=\"text-align: right;\">\n",
       "      <th></th>\n",
       "      <th>Date</th>\n",
       "      <th>Close</th>\n",
       "      <th>Cluster</th>\n",
       "    </tr>\n",
       "  </thead>\n",
       "  <tbody>\n",
       "    <tr>\n",
       "      <th>0</th>\n",
       "      <td>2020-07-15</td>\n",
       "      <td>26870.099609</td>\n",
       "      <td>2</td>\n",
       "    </tr>\n",
       "    <tr>\n",
       "      <th>1</th>\n",
       "      <td>2020-06-26</td>\n",
       "      <td>25015.550781</td>\n",
       "      <td>0</td>\n",
       "    </tr>\n",
       "    <tr>\n",
       "      <th>2</th>\n",
       "      <td>2020-05-21</td>\n",
       "      <td>24474.119141</td>\n",
       "      <td>2</td>\n",
       "    </tr>\n",
       "    <tr>\n",
       "      <th>3</th>\n",
       "      <td>2020-05-15</td>\n",
       "      <td>23685.419922</td>\n",
       "      <td>2</td>\n",
       "    </tr>\n",
       "    <tr>\n",
       "      <th>4</th>\n",
       "      <td>2020-07-16</td>\n",
       "      <td>26734.710938</td>\n",
       "      <td>2</td>\n",
       "    </tr>\n",
       "    <tr>\n",
       "      <th>5</th>\n",
       "      <td>2020-07-07</td>\n",
       "      <td>25890.179688</td>\n",
       "      <td>1</td>\n",
       "    </tr>\n",
       "    <tr>\n",
       "      <th>6</th>\n",
       "      <td>2020-05-14</td>\n",
       "      <td>23625.339844</td>\n",
       "      <td>2</td>\n",
       "    </tr>\n",
       "    <tr>\n",
       "      <th>7</th>\n",
       "      <td>2020-07-24</td>\n",
       "      <td>26469.890625</td>\n",
       "      <td>2</td>\n",
       "    </tr>\n",
       "    <tr>\n",
       "      <th>8</th>\n",
       "      <td>2020-07-02</td>\n",
       "      <td>25827.359375</td>\n",
       "      <td>0</td>\n",
       "    </tr>\n",
       "    <tr>\n",
       "      <th>9</th>\n",
       "      <td>2020-06-17</td>\n",
       "      <td>26119.609375</td>\n",
       "      <td>0</td>\n",
       "    </tr>\n",
       "    <tr>\n",
       "      <th>10</th>\n",
       "      <td>2020-05-19</td>\n",
       "      <td>24206.859375</td>\n",
       "      <td>2</td>\n",
       "    </tr>\n",
       "    <tr>\n",
       "      <th>11</th>\n",
       "      <td>2020-05-26</td>\n",
       "      <td>24995.109375</td>\n",
       "      <td>2</td>\n",
       "    </tr>\n",
       "    <tr>\n",
       "      <th>12</th>\n",
       "      <td>2020-07-09</td>\n",
       "      <td>25706.089844</td>\n",
       "      <td>0</td>\n",
       "    </tr>\n",
       "  </tbody>\n",
       "</table>\n",
       "</div>"
      ],
      "text/plain": [
       "         Date         Close  Cluster\n",
       "0  2020-07-15  26870.099609        2\n",
       "1  2020-06-26  25015.550781        0\n",
       "2  2020-05-21  24474.119141        2\n",
       "3  2020-05-15  23685.419922        2\n",
       "4  2020-07-16  26734.710938        2\n",
       "5  2020-07-07  25890.179688        1\n",
       "6  2020-05-14  23625.339844        2\n",
       "7  2020-07-24  26469.890625        2\n",
       "8  2020-07-02  25827.359375        0\n",
       "9  2020-06-17  26119.609375        0\n",
       "10 2020-05-19  24206.859375        2\n",
       "11 2020-05-26  24995.109375        2\n",
       "12 2020-07-09  25706.089844        0"
      ]
     },
     "execution_count": 33,
     "metadata": {},
     "output_type": "execute_result"
    }
   ],
   "source": [
    "#convert to data frame\n",
    "new_df = pd.DataFrame(data=clo,columns=['Date','Close','Cluster'])\n",
    "new_df"
   ]
  },
  {
   "cell_type": "code",
   "execution_count": 34,
   "metadata": {},
   "outputs": [
    {
     "data": {
      "text/plain": [
       "0.05763976691441686"
      ]
     },
     "execution_count": 34,
     "metadata": {},
     "output_type": "execute_result"
    }
   ],
   "source": [
    "regressor = LinearRegression()\n",
    "X = new_df['Cluster'].values.reshape(-1,1)\n",
    "y = new_df['Close'].values\n",
    "regressor.fit(X,y)\n",
    "pred_y = regressor.predict(X)\n",
    "r2_score(y,pred_y)"
   ]
  },
  {
   "cell_type": "code",
   "execution_count": 35,
   "metadata": {},
   "outputs": [],
   "source": [
    "#needs improvement;\n",
    "#- include more data, from longer time frame\n",
    "#- remove more irrelevant words - understand in particular Trump's speech patterns more\n",
    "#- play around with different ks\n",
    "#- associate by sentiment of speeches\n",
    "#- automate biden/trump and more"
   ]
  },
  {
   "cell_type": "code",
   "execution_count": null,
   "metadata": {},
   "outputs": [],
   "source": []
  }
 ],
 "metadata": {
  "kernelspec": {
   "display_name": "Python 3",
   "language": "python",
   "name": "python3"
  },
  "language_info": {
   "codemirror_mode": {
    "name": "ipython",
    "version": 3
   },
   "file_extension": ".py",
   "mimetype": "text/x-python",
   "name": "python",
   "nbconvert_exporter": "python",
   "pygments_lexer": "ipython3",
   "version": "3.7.6"
  }
 },
 "nbformat": 4,
 "nbformat_minor": 4
}
